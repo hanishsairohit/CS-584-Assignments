{
 "cells": [
  {
   "cell_type": "markdown",
   "metadata": {
    "id": "SICbtx9H59az"
   },
   "source": [
    "# <font color='navy'>**2. Sentiment Analysis**\n",
    "Allison Aprile\n",
    "\n",
    "Assignment 4\n",
    "\n",
    "April 30, 2021"
   ]
  },
  {
   "cell_type": "code",
   "execution_count": 222,
   "metadata": {
    "colab": {
     "base_uri": "https://localhost:8080/"
    },
    "id": "J6Tj-zZ96Hax",
    "outputId": "ac0ec27b-144a-4736-d5ca-c54ef1203320"
   },
   "outputs": [
    {
     "name": "stdout",
     "output_type": "stream",
     "text": [
      "[nltk_data] Downloading package punkt to /root/nltk_data...\n",
      "[nltk_data]   Package punkt is already up-to-date!\n",
      "[nltk_data] Downloading package stopwords to /root/nltk_data...\n",
      "[nltk_data]   Package stopwords is already up-to-date!\n"
     ]
    }
   ],
   "source": [
    "import pandas as pd\n",
    "import numpy as np\n",
    "import string\n",
    "import re\n",
    "import nltk\n",
    "nltk.download('punkt')\n",
    "from nltk.corpus import stopwords\n",
    "nltk.download('stopwords')\n",
    "from google.colab import drive\n",
    "from nltk import word_tokenize, sent_tokenize, pad_sequence\n",
    "import sys\n",
    "from sklearn.model_selection import train_test_split\n",
    "from keras.preprocessing.text import Tokenizer\n",
    "from keras.preprocessing.sequence import pad_sequences\n",
    "from sklearn.preprocessing import OneHotEncoder\n",
    "from keras.models import Sequential\n",
    "from keras.layers import Input, Embedding, Conv1D, Flatten, MaxPool1D, Dense, LSTM, Bidirectional, Concatenate\n",
    "from keras.optimizers import Adam\n",
    "from sklearn.metrics import classification_report, accuracy_score\n",
    "import matplotlib.pyplot as plt\n",
    "from sklearn.feature_extraction.text import TfidfVectorizer\n",
    "from sklearn.linear_model import LogisticRegression\n",
    "from sklearn.neural_network import MLPClassifier\n",
    "from bs4 import BeautifulSoup\n",
    "from collections import Counter"
   ]
  },
  {
   "cell_type": "code",
   "execution_count": 2,
   "metadata": {
    "colab": {
     "base_uri": "https://localhost:8080/"
    },
    "id": "lrUbvRxk6JST",
    "outputId": "990892c3-e393-4a07-d13c-46274a8397fc"
   },
   "outputs": [
    {
     "name": "stdout",
     "output_type": "stream",
     "text": [
      "Mounted at /content/drive\n"
     ]
    }
   ],
   "source": [
    "# Mount Google Drive\n",
    "drive.mount('/content/drive')"
   ]
  },
  {
   "cell_type": "markdown",
   "metadata": {
    "id": "9qAz2R5O97Vn"
   },
   "source": [
    "# <font color='navy'>**(a) Preprocess the data**"
   ]
  },
  {
   "cell_type": "code",
   "execution_count": 365,
   "metadata": {
    "id": "27_NOdoU8m30"
   },
   "outputs": [],
   "source": [
    "'''\n",
    "Processes review text files:\n",
    "  - Use BeautifulSoup to extract text between <review_text> tags\n",
    "  - Remove '\\n' and other characters (punctuation)\n",
    "  - Normalize (lowercasing all text)\n",
    "  - Tokenize\n",
    "\n",
    "Returns:\n",
    "  - samples: list of cleaned reviews\n",
    "  - tokens: list of tokenized reviews\n",
    "'''\n",
    "def process_text(file):\n",
    "  # Open file\n",
    "  with open(file, 'rb') as f:\n",
    "    # Read as string (Because of encoding issue, result is a byte string)\n",
    "    text = f.read()\n",
    "\n",
    "    # Get all reviews using BeautifulSoup\n",
    "    # Instantiate BeautifulSoup on file\n",
    "    soup = BeautifulSoup(text)\n",
    "\n",
    "    # Get all strings within <review_text> tags\n",
    "    reviews = [review.string for review in soup.find_all('review_text')]\n",
    "\n",
    "    # Replace any '\\n' characters (for formatting) and normalize\n",
    "    data = [d.replace('\\n', ' ').lower() for d in reviews]\n",
    "\n",
    "    # Tokenize sentences\n",
    "    tokens = [word_tokenize(d) for d in data]\n",
    "\n",
    "    # Remove any non-alphanumeric tokens (including punctuation) and stopwrods\n",
    "    tokens = [[t for t in toks if t.isalpha() and len(t) > 1] for toks in tokens]\n",
    "\n",
    "    # Join for individual training texts\n",
    "    samples = [' '.join(lst) for lst in tokens]\n",
    "\n",
    "    return samples, tokens"
   ]
  },
  {
   "cell_type": "code",
   "execution_count": 233,
   "metadata": {
    "id": "0MAYBpLO_pgS"
   },
   "outputs": [],
   "source": [
    "# Choose texts\n",
    "review_texts = {'positive.review': 1, 'negative.review': 0}"
   ]
  },
  {
   "cell_type": "code",
   "execution_count": 234,
   "metadata": {
    "id": "R9FVSjEhB7FK"
   },
   "outputs": [],
   "source": [
    "# Define lists for each set of data (80% training, 10% validation, 10% testing)\n",
    "X_train = []\n",
    "y_train = []\n",
    "X_val = []\n",
    "y_val = []\n",
    "X_test = []\n",
    "y_test = []\n",
    "\n",
    "# Iterate through each of the texts and add to data subsets\n",
    "for r in review_texts.keys():\n",
    "  # Get samples (paragraphs) and tokenized sentences\n",
    "  samples, tokens = process_text('/content/drive/My Drive/a4-data/q2/' + r)\n",
    "\n",
    "  # Allocate tokens to training, validation, and testing lists\n",
    "  x_train, x_test, train_y, test_y = train_test_split(samples, [review_texts[r]]*len(samples), test_size=0.2, train_size=0.8)\n",
    "  x_val, x_test, val_y, test_y = train_test_split(x_test, test_y, test_size=0.5, train_size=0.5)\n",
    "\n",
    "  X_train += x_train\n",
    "  y_train += train_y\n",
    "  X_val += x_val\n",
    "  y_val += val_y\n",
    "  X_test += x_test\n",
    "  y_test += test_y\n"
   ]
  },
  {
   "cell_type": "code",
   "execution_count": 300,
   "metadata": {
    "id": "NJURpXJrBnji"
   },
   "outputs": [],
   "source": [
    "# Create vocabulary from training dataset\n",
    "tokenizer = Tokenizer()\n",
    "tokenizer.fit_on_texts(X_train)\n",
    "vocabulary = tokenizer.word_index\n",
    "\n",
    "# Integer encode all datasets\n",
    "X_train_encoded = tokenizer.texts_to_sequences(X_train)\n",
    "X_test_encoded = tokenizer.texts_to_sequences(X_test)\n",
    "X_val_encoded = tokenizer.texts_to_sequences(X_val)\n",
    "\n",
    "# Pad all datasets to length 75\n",
    "X_train_encoded = pad_sequences(X_train_encoded, maxlen=75, padding='post')\n",
    "X_test_encoded = pad_sequences(X_test_encoded, maxlen=75, padding='post')\n",
    "X_val_encoded = pad_sequences(X_val_encoded, maxlen=75, padding='post')"
   ]
  },
  {
   "cell_type": "code",
   "execution_count": 301,
   "metadata": {
    "colab": {
     "base_uri": "https://localhost:8080/"
    },
    "id": "Qloxam7WCvGz",
    "outputId": "d1a99c87-2b88-4ae0-8e48-0e359618b11c"
   },
   "outputs": [
    {
     "name": "stdout",
     "output_type": "stream",
     "text": [
      "1600\n",
      "(1600, 75)\n",
      "1600\n",
      "\n",
      "200\n",
      "(200, 75)\n",
      "200\n",
      "\n",
      "200\n",
      "(200, 75)\n",
      "200\n"
     ]
    }
   ],
   "source": [
    "# Confirm shapes\n",
    "print(len(X_train))\n",
    "print(X_train_encoded.shape)\n",
    "print(len(y_train))\n",
    "print()\n",
    "\n",
    "print(len(X_val))\n",
    "print(X_val_encoded.shape)\n",
    "print(len(y_val))\n",
    "print()\n",
    "\n",
    "print(len(X_test))\n",
    "print(X_test_encoded.shape)\n",
    "print(len(y_test)) "
   ]
  },
  {
   "cell_type": "code",
   "execution_count": 237,
   "metadata": {
    "id": "zg7eDWqXDg6R"
   },
   "outputs": [],
   "source": [
    "# Load GLoVe for text embeddings\n",
    "# Open GloVe values downloaded from https://nlp.stanford.edu/projects/glove/\n",
    "fi = open('/content/drive/My Drive/a4-data/glove.6B.50d.txt', 'r')\n",
    "\n",
    "# Initialize embedding dictionary\n",
    "glove = {}\n",
    "\n",
    "# Record each word as a key and its embedding vector as a value in glove dictionary\n",
    "for li in fi:\n",
    "  # Split into word and each embedding value\n",
    "  line = li.split()\n",
    "\n",
    "  # Take first element as word\n",
    "  word = line[0]\n",
    "\n",
    "  # Take remaining elements as embedding values\n",
    "  value = np.array([float(val) for val in line[1:]])\n",
    "\n",
    "  # Add word to dictionary\n",
    "  glove[word] = value\n",
    "\n",
    "# Close file\n",
    "fi.close()"
   ]
  },
  {
   "cell_type": "code",
   "execution_count": 238,
   "metadata": {
    "id": "lzTnHCQBDmpQ"
   },
   "outputs": [],
   "source": [
    "# Initialize word vectors using pre-trained Glove embeddings\n",
    "def embed_text(glove_dict, vocabulary):\n",
    "  # Get list of all GLoVe keys\n",
    "  glove_keys = list(glove_dict.keys())\n",
    "\n",
    "  # Initialize word embedding matrix with zeros\n",
    "  word_embeddings = np.zeros((len(vocabulary) + 1, 50))\n",
    "\n",
    "  # Update word embeddings by mapping each vocabulary word\n",
    "  # to its corresponding GLoVe vector\n",
    "  for key, value in vocabulary.items():\n",
    "    # For names and uncommon words\n",
    "    if key not in glove_keys:\n",
    "      # Map to unk value\n",
    "      word_vec = glove_dict['unk']\n",
    "    \n",
    "    # For common words (words covered by GLoVe)\n",
    "    else:\n",
    "      word_vec = glove_dict['key']\n",
    "\n",
    "    # Update word_embeddings\n",
    "    word_embeddings[value] = word_vec\n",
    "\n",
    "  return word_embeddings"
   ]
  },
  {
   "cell_type": "code",
   "execution_count": 302,
   "metadata": {
    "colab": {
     "base_uri": "https://localhost:8080/"
    },
    "id": "gWgEUWWoDsA0",
    "outputId": "f6bc8d1e-bc04-4e6e-90f8-a91fda783c9b"
   },
   "outputs": [
    {
     "name": "stdout",
     "output_type": "stream",
     "text": [
      "(19034, 50)\n"
     ]
    }
   ],
   "source": [
    "# Initialize word vectors using GLoVe\n",
    "word_embeddings = embed_text(glove, vocabulary)\n",
    "\n",
    "# Confirm\n",
    "print(word_embeddings.shape)"
   ]
  },
  {
   "cell_type": "markdown",
   "metadata": {
    "id": "S6I4qtKpGFut"
   },
   "source": [
    "# <font color='navy'>**(b) Build models (Implement forward pass)**"
   ]
  },
  {
   "cell_type": "markdown",
   "metadata": {
    "id": "5PE8AkmhGJOL"
   },
   "source": [
    "### **CNN**"
   ]
  },
  {
   "cell_type": "code",
   "execution_count": 337,
   "metadata": {
    "id": "5Di5ZpF8DwWY"
   },
   "outputs": [],
   "source": [
    "# Define Sequential model as base \n",
    "cnn = Sequential()\n",
    "\n",
    "# Initialize Embedding layer with GLoVe embeddings\n",
    "cnn.add(Embedding(len(vocabulary) + 1, 50, weights = [word_embeddings],\n",
    "                    input_length = 75, trainable = True))\n",
    "\n",
    "# Add Convolutional block - padding = 'same' zero pads input matrix\n",
    "cnn.add(Conv1D(64, 3, activation='relu', input_shape=(50,), padding='same'))\n",
    "cnn.add(MaxPool1D(2,2))\n",
    "\n",
    "# Flatten\n",
    "cnn.add(Flatten())\n",
    "\n",
    "# Add MLP for output \n",
    "#cnn.add(Dense(10, activation='relu')) # Additional hidden layer\n",
    "cnn.add(Dense(1, activation='sigmoid')) # Output layer"
   ]
  },
  {
   "cell_type": "code",
   "execution_count": 338,
   "metadata": {
    "colab": {
     "base_uri": "https://localhost:8080/"
    },
    "id": "Rhr0hNA9IGIy",
    "outputId": "4f0cd66b-810f-4dcb-c67e-f018b234c91a"
   },
   "outputs": [
    {
     "name": "stdout",
     "output_type": "stream",
     "text": [
      "Model: \"sequential_60\"\n",
      "_________________________________________________________________\n",
      "Layer (type)                 Output Shape              Param #   \n",
      "=================================================================\n",
      "embedding_60 (Embedding)     (None, 75, 50)            951700    \n",
      "_________________________________________________________________\n",
      "conv1d_38 (Conv1D)           (None, 75, 64)            9664      \n",
      "_________________________________________________________________\n",
      "max_pooling1d_49 (MaxPooling (None, 37, 64)            0         \n",
      "_________________________________________________________________\n",
      "flatten_47 (Flatten)         (None, 2368)              0         \n",
      "_________________________________________________________________\n",
      "dense_93 (Dense)             (None, 1)                 2369      \n",
      "=================================================================\n",
      "Total params: 963,733\n",
      "Trainable params: 963,733\n",
      "Non-trainable params: 0\n",
      "_________________________________________________________________\n"
     ]
    }
   ],
   "source": [
    "# Print summary\n",
    "cnn.summary()"
   ]
  },
  {
   "cell_type": "markdown",
   "metadata": {
    "id": "Id74TtRPIKOO"
   },
   "source": [
    "### **LSTM 1 - Max Valued Hidden States as Context Vector**"
   ]
  },
  {
   "cell_type": "code",
   "execution_count": 339,
   "metadata": {
    "id": "bvpwVUFyIH6c"
   },
   "outputs": [],
   "source": [
    "# Define Sequential model as base \n",
    "lstm_1 = Sequential()\n",
    "\n",
    "# Initialize Embedding layer with GLoVe embeddings\n",
    "lstm_1.add(Embedding(len(vocabulary) + 1, 50, weights = [word_embeddings],\n",
    "                    input_length = 75, trainable = True))\n",
    "\n",
    "# LSTM layer with Bidirectional wrapper - return_sequences = True to output all hidden states\n",
    "lstm_1.add(Bidirectional(LSTM(16, activation='tanh', input_shape=(50,), return_sequences=True)))\n",
    "\n",
    "# Take element-wise maximum of all hidden states\n",
    "lstm_1.add(MaxPool1D())\n",
    "\n",
    "# Flatten\n",
    "lstm_1.add(Flatten())\n",
    "\n",
    "# Dense prediction layer\n",
    "lstm_1.add(Dense(1, activation='sigmoid'))"
   ]
  },
  {
   "cell_type": "code",
   "execution_count": 340,
   "metadata": {
    "colab": {
     "base_uri": "https://localhost:8080/"
    },
    "id": "r85LojYUIQfT",
    "outputId": "7004df07-61cd-4398-cda7-cfd33fc3338a"
   },
   "outputs": [
    {
     "name": "stdout",
     "output_type": "stream",
     "text": [
      "Model: \"sequential_61\"\n",
      "_________________________________________________________________\n",
      "Layer (type)                 Output Shape              Param #   \n",
      "=================================================================\n",
      "embedding_61 (Embedding)     (None, 75, 50)            951700    \n",
      "_________________________________________________________________\n",
      "bidirectional_23 (Bidirectio (None, 75, 32)            8576      \n",
      "_________________________________________________________________\n",
      "max_pooling1d_50 (MaxPooling (None, 37, 32)            0         \n",
      "_________________________________________________________________\n",
      "flatten_48 (Flatten)         (None, 1184)              0         \n",
      "_________________________________________________________________\n",
      "dense_94 (Dense)             (None, 1)                 1185      \n",
      "=================================================================\n",
      "Total params: 961,461\n",
      "Trainable params: 961,461\n",
      "Non-trainable params: 0\n",
      "_________________________________________________________________\n"
     ]
    }
   ],
   "source": [
    "# Print summary\n",
    "lstm_1.summary()"
   ]
  },
  {
   "cell_type": "markdown",
   "metadata": {
    "id": "dmJRW6mJIU3N"
   },
   "source": [
    "### **LSTM 2 - Last Hidden State as Context Vector**"
   ]
  },
  {
   "cell_type": "code",
   "execution_count": 341,
   "metadata": {
    "id": "crL5NjSsISRd"
   },
   "outputs": [],
   "source": [
    "# Define Sequential model as base \n",
    "lstm_2 = Sequential()\n",
    "\n",
    "# Initialize Embedding layer with GLoVe embeddings\n",
    "lstm_2.add(Embedding(len(vocabulary) + 1, 50, weights = [word_embeddings],\n",
    "                    input_length = 75, trainable = True))\n",
    "\n",
    "# LSTM layer with Bidirectional wrapper - return_sequences = False to output only last hidden state\n",
    "lstm_2.add(Bidirectional(LSTM(16, activation='tanh', input_shape=(50,), return_sequences=False)))\n",
    "\n",
    "# Dense prediction layer\n",
    "lstm_2.add(Dense(1, activation='sigmoid'))"
   ]
  },
  {
   "cell_type": "code",
   "execution_count": 342,
   "metadata": {
    "colab": {
     "base_uri": "https://localhost:8080/"
    },
    "id": "pyokEYCuIYfR",
    "outputId": "e9014ef4-65b6-452f-e78e-c70d50c633b9"
   },
   "outputs": [
    {
     "name": "stdout",
     "output_type": "stream",
     "text": [
      "Model: \"sequential_62\"\n",
      "_________________________________________________________________\n",
      "Layer (type)                 Output Shape              Param #   \n",
      "=================================================================\n",
      "embedding_62 (Embedding)     (None, 75, 50)            951700    \n",
      "_________________________________________________________________\n",
      "bidirectional_24 (Bidirectio (None, 32)                8576      \n",
      "_________________________________________________________________\n",
      "dense_95 (Dense)             (None, 1)                 33        \n",
      "=================================================================\n",
      "Total params: 960,309\n",
      "Trainable params: 960,309\n",
      "Non-trainable params: 0\n",
      "_________________________________________________________________\n"
     ]
    }
   ],
   "source": [
    "# Print summary\n",
    "lstm_2.summary()"
   ]
  },
  {
   "cell_type": "markdown",
   "metadata": {
    "id": "yqinMJIcIjKh"
   },
   "source": [
    "# <font color='navy'>**(c) Backpropagation**"
   ]
  },
  {
   "cell_type": "code",
   "execution_count": 343,
   "metadata": {
    "id": "o1oiIS95Icmw"
   },
   "outputs": [],
   "source": [
    "# Compile all models with Adam optimizer and 1e-3 learning rate\n",
    "cnn.compile(optimizer=Adam(lr=1e-3), loss='binary_crossentropy', metrics=['accuracy'])\n",
    "lstm_1.compile(optimizer=Adam(lr=1e-3), loss='binary_crossentropy', metrics=['accuracy'])\n",
    "lstm_2.compile(optimizer=Adam(lr=1e-3), loss='binary_crossentropy', metrics=['accuracy'])"
   ]
  },
  {
   "cell_type": "code",
   "execution_count": 344,
   "metadata": {
    "colab": {
     "base_uri": "https://localhost:8080/"
    },
    "id": "aeaKV_a2IpWH",
    "outputId": "23320b06-331d-4eed-9ec5-3b4ce78b0857"
   },
   "outputs": [
    {
     "name": "stdout",
     "output_type": "stream",
     "text": [
      "50/50 [==============================] - 0s 3ms/step - loss: 0.6996 - accuracy: 0.6241\n",
      "CNN Initial Loss:  0.7007375955581665\n",
      "\n",
      "50/50 [==============================] - 2s 11ms/step - loss: 0.7365 - accuracy: 0.1689\n",
      "LSTM (All Hidden Layers) Initial Loss:  0.694917619228363\n",
      "\n",
      "50/50 [==============================] - 3s 10ms/step - loss: 0.6122 - accuracy: 0.8342\n",
      "LSTM (Last Hidden Layer) Initial Loss:  0.7098873257637024\n"
     ]
    }
   ],
   "source": [
    "# Calculate the initial training categorical cross entropy losses of the models\n",
    "print('CNN Initial Loss: ', cnn.evaluate(X_train_encoded, np.array(y_train))[0])\n",
    "print()\n",
    "\n",
    "print('LSTM (All Hidden Layers) Initial Loss: ', lstm_1.evaluate(X_train_encoded, np.array(y_train))[0])\n",
    "print()\n",
    "\n",
    "print('LSTM (Last Hidden Layer) Initial Loss: ', lstm_2.evaluate(X_train_encoded, np.array(y_train))[0])"
   ]
  },
  {
   "cell_type": "markdown",
   "metadata": {
    "id": "9tyOofxBLk68"
   },
   "source": [
    "\n",
    "# <font color='navy'>**(d) Train Models**"
   ]
  },
  {
   "cell_type": "markdown",
   "metadata": {
    "id": "W8oD8LuELrPB"
   },
   "source": [
    "### **CNN**"
   ]
  },
  {
   "cell_type": "code",
   "execution_count": 345,
   "metadata": {
    "colab": {
     "base_uri": "https://localhost:8080/"
    },
    "id": "KJLYlwZWIvPw",
    "outputId": "b59abd58-d9f0-4f6a-b43e-fc396c3bd7e9"
   },
   "outputs": [
    {
     "name": "stdout",
     "output_type": "stream",
     "text": [
      "Epoch 1/5\n",
      "50/50 [==============================] - 2s 24ms/step - loss: 0.7087 - accuracy: 0.5006 - val_loss: 0.6936 - val_accuracy: 0.5050\n",
      "Epoch 2/5\n",
      "50/50 [==============================] - 1s 20ms/step - loss: 0.6761 - accuracy: 0.5813 - val_loss: 0.6917 - val_accuracy: 0.5250\n",
      "Epoch 3/5\n",
      "50/50 [==============================] - 1s 20ms/step - loss: 0.6504 - accuracy: 0.6506 - val_loss: 0.6967 - val_accuracy: 0.5100\n",
      "Epoch 4/5\n",
      "50/50 [==============================] - 1s 20ms/step - loss: 0.6085 - accuracy: 0.7819 - val_loss: 0.6929 - val_accuracy: 0.4950\n",
      "Epoch 5/5\n",
      "50/50 [==============================] - 1s 20ms/step - loss: 0.5344 - accuracy: 0.8950 - val_loss: 0.6982 - val_accuracy: 0.4950\n"
     ]
    }
   ],
   "source": [
    "# Fit model on training data for 5 epochs\n",
    "cnn_history = cnn.fit(X_train_encoded, np.array(y_train), epochs=5, batch_size=32,\n",
    "                      validation_data=(X_val_encoded, np.array(y_val)))"
   ]
  },
  {
   "cell_type": "markdown",
   "metadata": {
    "id": "Sdyb3b5uobbx"
   },
   "source": [
    "For the CNN, I tried 16, 32, 64, and 128 filters, as well as 1x1 and 3x3 for the kernel size. I also tried no Dense layer and Dense layers with 10 and 100 neurons for the top layer MLP. Surprisingly to me, the lower numbers of filters performed better, observing the best validation loss/accuracy at 64. However, for all combinations, the performance margin was very small. Because CNN is SOTA (moreso for computer vision, but upcoming for NLP tasks), I was disappointed in this performance. I tried increasing/decreasing the input sizes of the word vectors (25, 50, 75, 100) and unfreezing/freezing the Embedding layer, but all efforts did not have an impact on performance. "
   ]
  },
  {
   "cell_type": "code",
   "execution_count": 346,
   "metadata": {
    "colab": {
     "base_uri": "https://localhost:8080/",
     "height": 295
    },
    "id": "XZhSeLqBLzX2",
    "outputId": "b3efc8f4-4df5-4c7f-d15b-553bd2c994d7"
   },
   "outputs": [
    {
     "data": {
      "image/png": "[encoded data removed]",
      "text/plain": [
       "<Figure size 432x288 with 1 Axes>"
      ]
     },
     "metadata": {
      "needs_background": "light",
      "tags": []
     },
     "output_type": "display_data"
    }
   ],
   "source": [
    "# Plot training and validation loss curves \n",
    "plt.plot(cnn_history.history['loss'])\n",
    "plt.plot(cnn_history.history['val_loss'])\n",
    "plt.title('CNN Training vs. Validation Loss')\n",
    "plt.ylabel('Loss')\n",
    "plt.xlabel('Epoch')\n",
    "plt.legend(['Train', 'Validation'])\n",
    "plt.show()"
   ]
  },
  {
   "cell_type": "code",
   "execution_count": 347,
   "metadata": {
    "colab": {
     "base_uri": "https://localhost:8080/",
     "height": 295
    },
    "id": "DgIzgpoOQMZo",
    "outputId": "2557f4e2-f00d-4359-dd4e-bcaa5b078373"
   },
   "outputs": [
    {
     "data": {
      "image/png": "[encoded data removed]",
      "text/plain": [
       "<Figure size 432x288 with 1 Axes>"
      ]
     },
     "metadata": {
      "needs_background": "light",
      "tags": []
     },
     "output_type": "display_data"
    }
   ],
   "source": [
    "# Plot training and validation accuracy curves\n",
    "plt.plot(cnn_history.history['accuracy'])\n",
    "plt.plot(cnn_history.history['val_accuracy'])\n",
    "plt.title('CNN Training vs. Validation Accuracy')\n",
    "plt.ylabel('Accuracy')\n",
    "plt.xlabel('Epoch')\n",
    "plt.legend(['Train', 'Validation'])\n",
    "plt.show()"
   ]
  },
  {
   "cell_type": "code",
   "execution_count": 348,
   "metadata": {
    "id": "-zOH7T38QPQZ"
   },
   "outputs": [],
   "source": [
    "# Get testing predictions\n",
    "cnn_pred = list(cnn.predict(X_test_encoded))\n",
    "\n",
    "# Convert to 1 and 0\n",
    "cnn_pred = [1 if x > 0.5 else 0 for x in cnn_pred]"
   ]
  },
  {
   "cell_type": "code",
   "execution_count": 349,
   "metadata": {
    "colab": {
     "base_uri": "https://localhost:8080/"
    },
    "id": "FbWWCy4CQa5T",
    "outputId": "f0395fcf-8631-4cf7-c710-b461c6da2fe3"
   },
   "outputs": [
    {
     "data": {
      "text/plain": [
       "Counter({0: 100, 1: 100})"
      ]
     },
     "execution_count": 349,
     "metadata": {
      "tags": []
     },
     "output_type": "execute_result"
    }
   ],
   "source": [
    "# Check if testing dataset is balanced\n",
    "Counter(y_test)"
   ]
  },
  {
   "cell_type": "code",
   "execution_count": 350,
   "metadata": {
    "colab": {
     "base_uri": "https://localhost:8080/"
    },
    "id": "shh3JxcRQt9E",
    "outputId": "f0e39c08-16a8-4777-da3c-b0b8e756acb0"
   },
   "outputs": [
    {
     "name": "stdout",
     "output_type": "stream",
     "text": [
      "0.53\n"
     ]
    }
   ],
   "source": [
    "# Because testing set is balanced, report only accuracy\n",
    "print(accuracy_score(y_test, cnn_pred))"
   ]
  },
  {
   "cell_type": "markdown",
   "metadata": {
    "id": "3u7jlYd0RfLd"
   },
   "source": [
    "### **LSTM 1 - Max Valued Hidden States as Context Vector**"
   ]
  },
  {
   "cell_type": "code",
   "execution_count": 351,
   "metadata": {
    "colab": {
     "base_uri": "https://localhost:8080/"
    },
    "id": "IgzBDCtVQ170",
    "outputId": "ebdff673-b4f9-4465-8dc8-6a75ee732965"
   },
   "outputs": [
    {
     "name": "stdout",
     "output_type": "stream",
     "text": [
      "Epoch 1/10\n",
      "50/50 [==============================] - 7s 69ms/step - loss: 0.6965 - accuracy: 0.4931 - val_loss: 0.6930 - val_accuracy: 0.5150\n",
      "Epoch 2/10\n",
      "50/50 [==============================] - 2s 47ms/step - loss: 0.6798 - accuracy: 0.5369 - val_loss: 0.6865 - val_accuracy: 0.5450\n",
      "Epoch 3/10\n",
      "50/50 [==============================] - 2s 48ms/step - loss: 0.6212 - accuracy: 0.7450 - val_loss: 0.6271 - val_accuracy: 0.7200\n",
      "Epoch 4/10\n",
      "50/50 [==============================] - 2s 49ms/step - loss: 0.3763 - accuracy: 0.8594 - val_loss: 0.5976 - val_accuracy: 0.6800\n",
      "Epoch 5/10\n",
      "50/50 [==============================] - 2s 48ms/step - loss: 0.1224 - accuracy: 0.9688 - val_loss: 0.7451 - val_accuracy: 0.6700\n",
      "Epoch 6/10\n",
      "50/50 [==============================] - 2s 47ms/step - loss: 0.0443 - accuracy: 0.9925 - val_loss: 0.9013 - val_accuracy: 0.6800\n",
      "Epoch 7/10\n",
      "50/50 [==============================] - 2s 48ms/step - loss: 0.0203 - accuracy: 0.9962 - val_loss: 1.1304 - val_accuracy: 0.6950\n",
      "Epoch 8/10\n",
      "50/50 [==============================] - 2s 48ms/step - loss: 0.0128 - accuracy: 0.9994 - val_loss: 1.3392 - val_accuracy: 0.6800\n",
      "Epoch 9/10\n",
      "50/50 [==============================] - 2s 47ms/step - loss: 0.0068 - accuracy: 0.9994 - val_loss: 1.4838 - val_accuracy: 0.6300\n",
      "Epoch 10/10\n",
      "50/50 [==============================] - 3s 50ms/step - loss: 0.0041 - accuracy: 1.0000 - val_loss: 1.6019 - val_accuracy: 0.6050\n"
     ]
    }
   ],
   "source": [
    "# Fit model on training data for 10 epochs\n",
    "lstm_1_history = lstm_1.fit(X_train_encoded, np.array(y_train), epochs=10, batch_size=32,\n",
    "                      validation_data=(X_val_encoded, np.array(y_val)))"
   ]
  },
  {
   "cell_type": "markdown",
   "metadata": {
    "id": "DQT5D2TSpNaN"
   },
   "source": [
    "For this LSTM, I had a similar experience as with the CNN - when trying the varying hidden state sizes (16, 32, 64, 128), I noticed that the lower size led to better performance. I also observed that taking the element-wise maximum (verus average) of all the states after the Bidirectional LSTM layer yielded better performance. Ultimately, this is not ideal performance (only slightly better than random guess), but it still learned more than the CNN."
   ]
  },
  {
   "cell_type": "code",
   "execution_count": 352,
   "metadata": {
    "colab": {
     "base_uri": "https://localhost:8080/",
     "height": 295
    },
    "id": "GNATx5Q1RmOa",
    "outputId": "423580de-0711-4555-deb4-a8fb6ea83daa"
   },
   "outputs": [
    {
     "data": {
      "image/png": "[encoded data removed]",
      "text/plain": [
       "<Figure size 432x288 with 1 Axes>"
      ]
     },
     "metadata": {
      "needs_background": "light",
      "tags": []
     },
     "output_type": "display_data"
    }
   ],
   "source": [
    "# Plot training and validation loss curves \n",
    "plt.plot(lstm_1_history.history['loss'])\n",
    "plt.plot(lstm_1_history.history['val_loss'])\n",
    "plt.title('LSTM (All Hidden States) Training vs. Validation Loss')\n",
    "plt.ylabel('Loss')\n",
    "plt.xlabel('Epoch')\n",
    "plt.legend(['Train', 'Validation'])\n",
    "plt.show()"
   ]
  },
  {
   "cell_type": "code",
   "execution_count": 353,
   "metadata": {
    "colab": {
     "base_uri": "https://localhost:8080/",
     "height": 295
    },
    "id": "zQHgTyPgT5ix",
    "outputId": "edb6ed54-82f3-42ee-c85e-2cee785f2de0"
   },
   "outputs": [
    {
     "data": {
      "image/png": "[encoded data removed]",
      "text/plain": [
       "<Figure size 432x288 with 1 Axes>"
      ]
     },
     "metadata": {
      "needs_background": "light",
      "tags": []
     },
     "output_type": "display_data"
    }
   ],
   "source": [
    "# Plot training and validation accuracy curves \n",
    "plt.plot(lstm_1_history.history['accuracy'])\n",
    "plt.plot(lstm_1_history.history['val_accuracy'])\n",
    "plt.title('LSTM (All Hidden States) Training vs. Validation Accuracy')\n",
    "plt.ylabel('Accuracy')\n",
    "plt.xlabel('Epoch')\n",
    "plt.legend(['Train', 'Validation'])\n",
    "plt.show()"
   ]
  },
  {
   "cell_type": "code",
   "execution_count": 354,
   "metadata": {
    "id": "eSfO_vAAW5-V"
   },
   "outputs": [],
   "source": [
    "# Get testing predictions\n",
    "lstm_1_pred = list(lstm_1.predict(X_test_encoded))\n",
    "\n",
    "# Convert to 1 and 0\n",
    "lstm_1_pred = [1 if x > 0.5 else 0 for x in lstm_1_pred]"
   ]
  },
  {
   "cell_type": "code",
   "execution_count": 355,
   "metadata": {
    "colab": {
     "base_uri": "https://localhost:8080/"
    },
    "id": "xHmiGNuGYDud",
    "outputId": "041d01f3-b39d-4dba-9a59-a28bd860053b"
   },
   "outputs": [
    {
     "name": "stdout",
     "output_type": "stream",
     "text": [
      "0.63\n"
     ]
    }
   ],
   "source": [
    "# Because testing set is balanced, report only accuracy\n",
    "print(accuracy_score(y_test, lstm_1_pred))"
   ]
  },
  {
   "cell_type": "markdown",
   "metadata": {
    "id": "UlXetO6XXuOD"
   },
   "source": [
    "### **LSTM 2 - Last Hidden State as Context Vector**"
   ]
  },
  {
   "cell_type": "code",
   "execution_count": 356,
   "metadata": {
    "colab": {
     "base_uri": "https://localhost:8080/"
    },
    "id": "pbgY1VIJXxNM",
    "outputId": "8c95b2de-58ae-4ee2-f280-fdb98c5b2221"
   },
   "outputs": [
    {
     "name": "stdout",
     "output_type": "stream",
     "text": [
      "Epoch 1/10\n",
      "50/50 [==============================] - 6s 65ms/step - loss: 0.6967 - accuracy: 0.4938 - val_loss: 0.6940 - val_accuracy: 0.5000\n",
      "Epoch 2/10\n",
      "50/50 [==============================] - 2s 46ms/step - loss: 0.6881 - accuracy: 0.5381 - val_loss: 0.6938 - val_accuracy: 0.5050\n",
      "Epoch 3/10\n",
      "50/50 [==============================] - 2s 49ms/step - loss: 0.6859 - accuracy: 0.5306 - val_loss: 0.6996 - val_accuracy: 0.5000\n",
      "Epoch 4/10\n",
      "50/50 [==============================] - 2s 47ms/step - loss: 0.6656 - accuracy: 0.6156 - val_loss: 0.6869 - val_accuracy: 0.5450\n",
      "Epoch 5/10\n",
      "50/50 [==============================] - 2s 47ms/step - loss: 0.5548 - accuracy: 0.7856 - val_loss: 0.5958 - val_accuracy: 0.7100\n",
      "Epoch 6/10\n",
      "50/50 [==============================] - 2s 48ms/step - loss: 0.3319 - accuracy: 0.8950 - val_loss: 0.5167 - val_accuracy: 0.7600\n",
      "Epoch 7/10\n",
      "50/50 [==============================] - 2s 48ms/step - loss: 0.1589 - accuracy: 0.9619 - val_loss: 0.5647 - val_accuracy: 0.7850\n",
      "Epoch 8/10\n",
      "50/50 [==============================] - 2s 46ms/step - loss: 0.0837 - accuracy: 0.9844 - val_loss: 0.7070 - val_accuracy: 0.7450\n",
      "Epoch 9/10\n",
      "50/50 [==============================] - 2s 47ms/step - loss: 0.0540 - accuracy: 0.9925 - val_loss: 0.5757 - val_accuracy: 0.7550\n",
      "Epoch 10/10\n",
      "50/50 [==============================] - 2s 46ms/step - loss: 0.0290 - accuracy: 0.9962 - val_loss: 0.5469 - val_accuracy: 0.7750\n"
     ]
    }
   ],
   "source": [
    "# Fit model on training data for 10 epochs\n",
    "lstm_2_history = lstm_2.fit(X_train_encoded, np.array(y_train), epochs=10, batch_size=32,\n",
    "                      validation_data=(X_val_encoded, np.array(y_val)))"
   ]
  },
  {
   "cell_type": "markdown",
   "metadata": {
    "id": "tyZn-viTqKFe"
   },
   "source": [
    "For this LSTM, I followed the same hyperparameter tuning as with the CNN and prior LSTM. I once again found that unfreezing the Embedding layer, using a hidden state size of 16 yieled the best validation performance. Surprisingly, it learned more than the LSTM that used all of the hidden states. "
   ]
  },
  {
   "cell_type": "code",
   "execution_count": 357,
   "metadata": {
    "colab": {
     "base_uri": "https://localhost:8080/",
     "height": 295
    },
    "id": "VyVxUMFTX1ne",
    "outputId": "d7d8b9de-c22b-4371-8c3e-b326711ca512"
   },
   "outputs": [
    {
     "data": {
      "image/png": "[encoded data removed]",
      "text/plain": [
       "<Figure size 432x288 with 1 Axes>"
      ]
     },
     "metadata": {
      "needs_background": "light",
      "tags": []
     },
     "output_type": "display_data"
    }
   ],
   "source": [
    "# Plot training and validation loss curves \n",
    "plt.plot(lstm_2_history.history['loss'])\n",
    "plt.plot(lstm_2_history.history['val_loss'])\n",
    "plt.title('LSTM (Final Hidden State) Training vs. Validation Loss')\n",
    "plt.ylabel('Loss')\n",
    "plt.xlabel('Epoch')\n",
    "plt.legend(['Train', 'Validation'])\n",
    "plt.show()"
   ]
  },
  {
   "cell_type": "code",
   "execution_count": 358,
   "metadata": {
    "colab": {
     "base_uri": "https://localhost:8080/",
     "height": 295
    },
    "id": "KD59DCxMX4xT",
    "outputId": "443cc474-4eaf-4153-eb0c-0a37cdadaf1d"
   },
   "outputs": [
    {
     "data": {
      "image/png": "[encoded data removed]",
      "text/plain": [
       "<Figure size 432x288 with 1 Axes>"
      ]
     },
     "metadata": {
      "needs_background": "light",
      "tags": []
     },
     "output_type": "display_data"
    }
   ],
   "source": [
    "# Plot training and validation accuracy curves \n",
    "plt.plot(lstm_2_history.history['accuracy'])\n",
    "plt.plot(lstm_2_history.history['val_accuracy'])\n",
    "plt.title('LSTM (Final Hidden State) Training vs. Validation Accuracy')\n",
    "plt.ylabel('Accuracy')\n",
    "plt.xlabel('Epoch')\n",
    "plt.legend(['Train', 'Validation'])\n",
    "plt.show()"
   ]
  },
  {
   "cell_type": "code",
   "execution_count": 359,
   "metadata": {
    "id": "TDmBO5MAX9VG"
   },
   "outputs": [],
   "source": [
    "# Get testing predictions\n",
    "lstm_2_pred = list(lstm_2.predict(X_test_encoded))\n",
    "\n",
    "# Convert to 1 and 0\n",
    "lstm_2_pred = [1 if x > 0.5 else 0 for x in lstm_2_pred]"
   ]
  },
  {
   "cell_type": "code",
   "execution_count": 360,
   "metadata": {
    "colab": {
     "base_uri": "https://localhost:8080/"
    },
    "id": "JAhPcTsbYGB9",
    "outputId": "f9c3defc-d438-4788-f8cf-91e3439e669b"
   },
   "outputs": [
    {
     "name": "stdout",
     "output_type": "stream",
     "text": [
      "0.775\n"
     ]
    }
   ],
   "source": [
    "# Because testing set is balanced, report only accuracy\n",
    "print(accuracy_score(y_test, lstm_2_pred))"
   ]
  },
  {
   "cell_type": "markdown",
   "metadata": {
    "id": "g4P_Bw48X80E"
   },
   "source": [
    "\n",
    "# <font color='navy'>**(e) Compare Models**"
   ]
  },
  {
   "cell_type": "code",
   "execution_count": 362,
   "metadata": {
    "id": "76ZMeAMuYLP5"
   },
   "outputs": [],
   "source": [
    "# Store data\n",
    "models = ['CNN', 'LSTM (All Hidden States)', 'LSTM (Final Hidden State)']\n",
    "accuracies = [0.53, 0.63, 0.775]"
   ]
  },
  {
   "cell_type": "code",
   "execution_count": 363,
   "metadata": {
    "id": "g9b1zOW2ZRZx"
   },
   "outputs": [],
   "source": [
    "# Zip data into dataframe\n",
    "performance = pd.DataFrame(list(zip(models, accuracies)), columns=['Model', 'Accuracy'])"
   ]
  },
  {
   "cell_type": "code",
   "execution_count": 364,
   "metadata": {
    "colab": {
     "base_uri": "https://localhost:8080/",
     "height": 142
    },
    "id": "bq5cJ0UvZlg7",
    "outputId": "bf71621d-1934-45f3-b801-2811ed73becb"
   },
   "outputs": [
    {
     "data": {
      "text/html": [
       "<div>\n",
       "<style scoped>\n",
       "    .dataframe tbody tr th:only-of-type {\n",
       "        vertical-align: middle;\n",
       "    }\n",
       "\n",
       "    .dataframe tbody tr th {\n",
       "        vertical-align: top;\n",
       "    }\n",
       "\n",
       "    .dataframe thead th {\n",
       "        text-align: right;\n",
       "    }\n",
       "</style>\n",
       "<table border=\"1\" class=\"dataframe\">\n",
       "  <thead>\n",
       "    <tr style=\"text-align: right;\">\n",
       "      <th></th>\n",
       "      <th>Model</th>\n",
       "      <th>Accuracy</th>\n",
       "    </tr>\n",
       "  </thead>\n",
       "  <tbody>\n",
       "    <tr>\n",
       "      <th>0</th>\n",
       "      <td>CNN</td>\n",
       "      <td>0.530</td>\n",
       "    </tr>\n",
       "    <tr>\n",
       "      <th>1</th>\n",
       "      <td>LSTM (All Hidden States)</td>\n",
       "      <td>0.630</td>\n",
       "    </tr>\n",
       "    <tr>\n",
       "      <th>2</th>\n",
       "      <td>LSTM (Final Hidden State)</td>\n",
       "      <td>0.775</td>\n",
       "    </tr>\n",
       "  </tbody>\n",
       "</table>\n",
       "</div>"
      ],
      "text/plain": [
       "                       Model  Accuracy\n",
       "0                        CNN     0.530\n",
       "1   LSTM (All Hidden States)     0.630\n",
       "2  LSTM (Final Hidden State)     0.775"
      ]
     },
     "execution_count": 364,
     "metadata": {
      "tags": []
     },
     "output_type": "execute_result"
    }
   ],
   "source": [
    "# Print table\n",
    "performance"
   ]
  }
 ],
 "metadata": {
  "colab": {
   "collapsed_sections": [],
   "name": "Sentiment Analysis - Assignment4_Aprile_Allison.ipynb",
   "provenance": []
  },
  "kernelspec": {
   "display_name": "Python 3",
   "language": "python",
   "name": "python3"
  },
  "language_info": {
   "codemirror_mode": {
    "name": "ipython",
    "version": 3
   },
   "file_extension": ".py",
   "mimetype": "text/x-python",
   "name": "python",
   "nbconvert_exporter": "python",
   "pygments_lexer": "ipython3",
   "version": "3.8.5"
  }
 },
 "nbformat": 4,
 "nbformat_minor": 1
}
