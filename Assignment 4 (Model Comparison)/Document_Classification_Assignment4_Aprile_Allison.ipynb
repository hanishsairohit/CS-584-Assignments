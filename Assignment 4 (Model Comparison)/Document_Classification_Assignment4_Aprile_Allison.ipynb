{
 "cells": [
  {
   "cell_type": "markdown",
   "metadata": {
    "id": "NOLTpNlYwXdx"
   },
   "source": [
    "# <font color='navy'>**1. Document Classification**\n",
    "Allison Aprile\n",
    "\n",
    "Assignment 4\n",
    "\n",
    "April 30, 2021"
   ]
  },
  {
   "cell_type": "code",
   "execution_count": 1,
   "metadata": {
    "colab": {
     "base_uri": "https://localhost:8080/"
    },
    "id": "P5PSQ4SFJNp4",
    "outputId": "d8e7eaff-c0fa-4695-8563-dff509dd8759"
   },
   "outputs": [
    {
     "name": "stdout",
     "output_type": "stream",
     "text": [
      "[nltk_data] Downloading package punkt to /root/nltk_data...\n",
      "[nltk_data]   Package punkt is already up-to-date!\n"
     ]
    }
   ],
   "source": [
    "import pandas as pd\n",
    "import numpy as np\n",
    "import string\n",
    "import re\n",
    "import nltk\n",
    "nltk.download('punkt')\n",
    "from google.colab import drive\n",
    "from nltk import word_tokenize, sent_tokenize, pad_sequence\n",
    "import sys\n",
    "from sklearn.model_selection import train_test_split\n",
    "from keras.preprocessing.text import Tokenizer\n",
    "from keras.preprocessing.sequence import pad_sequences\n",
    "from sklearn.preprocessing import OneHotEncoder\n",
    "from keras.models import Sequential\n",
    "from keras.layers import Input, Embedding, Conv1D, Flatten, MaxPool1D, Dense, LSTM, Bidirectional, Concatenate\n",
    "from keras.optimizers import Adam\n",
    "from sklearn.metrics import classification_report\n",
    "import matplotlib.pyplot as plt\n",
    "from sklearn.feature_extraction.text import TfidfVectorizer\n",
    "from sklearn.linear_model import LogisticRegression\n",
    "from sklearn.neural_network import MLPClassifier"
   ]
  },
  {
   "cell_type": "code",
   "execution_count": 2,
   "metadata": {
    "colab": {
     "base_uri": "https://localhost:8080/"
    },
    "id": "0DwOqo6HJbxh",
    "outputId": "181ed6fa-2862-4406-8bdc-45f664371f32"
   },
   "outputs": [
    {
     "name": "stdout",
     "output_type": "stream",
     "text": [
      "Drive already mounted at /content/drive; to attempt to forcibly remount, call drive.mount(\"/content/drive\", force_remount=True).\n"
     ]
    }
   ],
   "source": [
    "# Mount Google Drive\n",
    "drive.mount('/content/drive')"
   ]
  },
  {
   "cell_type": "markdown",
   "metadata": {
    "id": "4YACi8FgyrZc"
   },
   "source": [
    "# <font color='navy'>**(a) Preprocess the data**"
   ]
  },
  {
   "cell_type": "code",
   "execution_count": 4,
   "metadata": {
    "id": "hGPxLw0Yys3Y"
   },
   "outputs": [],
   "source": [
    "''' \n",
    "Processes Project Gutenberg text files:\n",
    "    - Discard text other than book text\n",
    "    - Split into samples (paragraphs)\n",
    "    - Remove short sentences/chapter headers\n",
    "    - Replace newlines and other characters\n",
    "    - Normalize (lowercasing all text)\n",
    "    - Tokenize\n",
    "\n",
    "Returns:\n",
    "    - samples: list cleaned paragraphs\n",
    "    - tokens: list of tokenized paragraphs\n",
    "'''\n",
    "def process_text(txt):\n",
    "  # Open file\n",
    "  with open(txt) as f:\n",
    "    # Read as string\n",
    "    text = f.read()\n",
    "\n",
    "    # Keep only book text\n",
    "    filtered_text = text[text.find('***START OF THE PROJECT GUTENBERG EBOOK'):text.find('***END OF THE PROJECT GUTENBERG EBOOK')]\n",
    "\n",
    "    if len(filtered_text) == 0:\n",
    "      filtered_text = text[text.find('*** START OF THIS PROJECT GUTENBERG EBOOK'):text.find('*** END OF THIS PROJECT GUTENBERG EBOOK')]\n",
    "\n",
    "    # Split text into paragraphs \n",
    "    data = filtered_text.split('\\n\\n') # Use double newline because of text file formatting\n",
    "\n",
    "    # Remove sentences with less than 10 words - gets rid of chapter/book headings and blank lines\n",
    "    data = [d for d in data if len(d.strip().split(' ')) >= 10]\n",
    "\n",
    "    # Replace any '\\n' characters (for formatting) and normalize\n",
    "    data = [d.replace('\\n', ' ').lower() for d in data]\n",
    "\n",
    "    # Remove any sentences with 'chapter'\n",
    "    data = [d for d in data if 'chapter' not in d]\n",
    "\n",
    "    # Tokenize sentences\n",
    "    tokens = [word_tokenize(d) for d in data]\n",
    "\n",
    "    # Remove any non-alphanumeric tokens (including punctuation)\n",
    "    tokens = [[t for t in toks if t.isalpha() and len(t) > 1] for toks in tokens]\n",
    "\n",
    "    # Join for individual training texts\n",
    "    samples = [' '.join(lst) for lst in tokens]\n",
    "\n",
    "    return samples, tokens"
   ]
  },
  {
   "cell_type": "code",
   "execution_count": 5,
   "metadata": {
    "id": "R0Vvmt4kz-93"
   },
   "outputs": [],
   "source": [
    "# Choose texts\n",
    "books = {'28054-0.txt' : 'dostoyevsky', 'pg1661.txt' : 'doyle', 'pg31100.txt': 'austen'}"
   ]
  },
  {
   "cell_type": "code",
   "execution_count": 6,
   "metadata": {
    "id": "G-xjmaLrMU6c"
   },
   "outputs": [],
   "source": [
    "# Define lists for each set of data (80% training, 10% validation, 10% testing)\n",
    "X_train = []\n",
    "y_train = []\n",
    "X_val = []\n",
    "y_val = []\n",
    "X_test = []\n",
    "y_test = []\n",
    "\n",
    "# Iterate through each of the texts and add to data subsets\n",
    "for b in books.keys():\n",
    "  # Get samples (paragraphs) and tokenized sentences\n",
    "  samples, tokens = process_text('/content/drive/My Drive/a4-data/q1/' + b)\n",
    "\n",
    "  # Allocate tokens to training, validation, and testing lists\n",
    "  x_train, x_test, train_y, test_y = train_test_split(samples, [books[b]]*len(samples), test_size=0.2, train_size=0.8)\n",
    "  x_val, x_test, val_y, test_y = train_test_split(x_test, test_y, test_size=0.5, train_size=0.5)\n",
    "\n",
    "  X_train += x_train\n",
    "  y_train += train_y\n",
    "  X_val += x_val\n",
    "  y_val += val_y\n",
    "  X_test += x_test\n",
    "  y_test += test_y\n"
   ]
  },
  {
   "cell_type": "code",
   "execution_count": 7,
   "metadata": {
    "id": "jKg056voL_K0"
   },
   "outputs": [],
   "source": [
    "# Create vocabulary from training dataset\n",
    "tokenizer = Tokenizer()\n",
    "tokenizer.fit_on_texts(X_train)\n",
    "vocabulary = tokenizer.word_index\n",
    "\n",
    "# Integer encode all datasets\n",
    "X_train_encoded = tokenizer.texts_to_sequences(X_train)\n",
    "X_test_encoded = tokenizer.texts_to_sequences(X_test)\n",
    "X_val_encoded = tokenizer.texts_to_sequences(X_val)\n",
    "\n",
    "# Pad all datasets to length 50\n",
    "X_train_encoded = pad_sequences(X_train_encoded, maxlen=50, padding='post')\n",
    "X_test_encoded = pad_sequences(X_test_encoded, maxlen=50, padding='post')\n",
    "X_val_encoded = pad_sequences(X_val_encoded, maxlen=50, padding='post')"
   ]
  },
  {
   "cell_type": "code",
   "execution_count": 8,
   "metadata": {
    "id": "3MzDvtY_Wb6g"
   },
   "outputs": [],
   "source": [
    "# One-hot encode label vectors\n",
    "ohe = OneHotEncoder(sparse=False)\n",
    "y_train_encoded = ohe.fit_transform(np.array(y_train).reshape(-1,1))\n",
    "y_test_encoded = ohe.fit_transform(np.array(y_test).reshape(-1,1))\n",
    "y_val_encoded = ohe.fit_transform(np.array(y_val).reshape(-1,1))"
   ]
  },
  {
   "cell_type": "code",
   "execution_count": 10,
   "metadata": {
    "colab": {
     "base_uri": "https://localhost:8080/"
    },
    "id": "DPGWiFDqwvp4",
    "outputId": "3e6c5c6b-96b3-441a-dfd6-ba5e611e1fd8"
   },
   "outputs": [
    {
     "name": "stdout",
     "output_type": "stream",
     "text": [
      "12774\n",
      "(12774, 50)\n",
      "12774\n",
      "(12774, 3)\n",
      "\n",
      "1597\n",
      "(1597, 50)\n",
      "1597\n",
      "(1597, 3)\n",
      "\n",
      "1598\n",
      "(1598, 50)\n",
      "1598\n",
      "(1598, 3)\n"
     ]
    }
   ],
   "source": [
    "# Confirm shapes\n",
    "print(len(X_train))\n",
    "print(X_train_encoded.shape)\n",
    "print(len(y_train))\n",
    "print(y_train_encoded.shape)\n",
    "print()\n",
    "\n",
    "print(len(X_val))\n",
    "print(X_val_encoded.shape)\n",
    "print(len(y_val))\n",
    "print(y_val_encoded.shape)\n",
    "print()\n",
    "\n",
    "print(len(X_test))\n",
    "print(X_test_encoded.shape)\n",
    "print(len(y_test)) \n",
    "print(y_test_encoded.shape)"
   ]
  },
  {
   "cell_type": "code",
   "execution_count": 11,
   "metadata": {
    "colab": {
     "base_uri": "https://localhost:8080/"
    },
    "id": "QiFxQ5bIUR45",
    "outputId": "88f0f555-4df1-456e-f88d-59e36325b9a6"
   },
   "outputs": [
    {
     "name": "stdout",
     "output_type": "stream",
     "text": [
      "[0. 1. 0.]\n",
      "dostoyevsky\n"
     ]
    }
   ],
   "source": [
    "# Create dictionary for later predictions\n",
    "# Check indices\n",
    "print(y_test_encoded[0])\n",
    "print(y_test[0])\n",
    "\n",
    "# Map indices to authors\n",
    "pred_mapping = {0: 'austen', 1: 'dostoyevsky', 2: 'doyle'}"
   ]
  },
  {
   "cell_type": "code",
   "execution_count": 12,
   "metadata": {
    "id": "Fpsu3t9DMAcN"
   },
   "outputs": [],
   "source": [
    "# Load GLoVe for text embeddings\n",
    "# Open GloVe values downloaded from https://nlp.stanford.edu/projects/glove/\n",
    "fi = open('/content/drive/My Drive/a4-data/glove.6B.50d.txt', 'r')\n",
    "\n",
    "# Initialize embedding dictionary\n",
    "glove = {}\n",
    "\n",
    "# Record each word as a key and its embedding vector as a value in glove dictionary\n",
    "for li in fi:\n",
    "  # Split into word and each embedding value\n",
    "  line = li.split()\n",
    "\n",
    "  # Take first element as word\n",
    "  word = line[0]\n",
    "\n",
    "  # Take remaining elements as embedding values\n",
    "  value = np.array([float(val) for val in line[1:]])\n",
    "\n",
    "  # Add word to dictionary\n",
    "  glove[word] = value\n",
    "\n",
    "# Close file\n",
    "fi.close()"
   ]
  },
  {
   "cell_type": "code",
   "execution_count": 13,
   "metadata": {
    "id": "JeKRZzxWTeer"
   },
   "outputs": [],
   "source": [
    "# Initialize word vectors using pre-trained Glove embeddings\n",
    "def embed_text(glove_dict, vocabulary):\n",
    "  # Get list of all GLoVe keys\n",
    "  glove_keys = list(glove_dict.keys())\n",
    "\n",
    "  # Initialize word embedding matrix with zeros\n",
    "  word_embeddings = np.zeros((len(vocabulary) + 1, 50))\n",
    "\n",
    "  # Update word embeddings by mapping each vocabulary word\n",
    "  # to its corresponding GLoVe vector\n",
    "  for key, value in vocabulary.items():\n",
    "    # For names and uncommon words\n",
    "    if key not in glove_keys:\n",
    "      # Map to unk value\n",
    "      word_vec = glove_dict['unk']\n",
    "    \n",
    "    # For common words (words covered by GLoVe)\n",
    "    else:\n",
    "      word_vec = glove_dict['key']\n",
    "\n",
    "    # Update word_embeddings\n",
    "    word_embeddings[value] = word_vec\n",
    "\n",
    "  return word_embeddings"
   ]
  },
  {
   "cell_type": "code",
   "execution_count": 15,
   "metadata": {
    "colab": {
     "base_uri": "https://localhost:8080/"
    },
    "id": "ldxjMWN0rmak",
    "outputId": "b9fc6ccc-c19a-44f3-f120-64d7568a2b47"
   },
   "outputs": [
    {
     "name": "stdout",
     "output_type": "stream",
     "text": [
      "(18891, 50)\n"
     ]
    }
   ],
   "source": [
    "# Initialize word vectors using GLoVe\n",
    "word_embeddings = embed_text(glove, vocabulary)\n",
    "\n",
    "# Confirm\n",
    "print(word_embeddings.shape)"
   ]
  },
  {
   "cell_type": "markdown",
   "metadata": {
    "id": "j-YGa1hdXWYN"
   },
   "source": [
    "# <font color='navy'>**(b) Build models (Implement forward pass)**"
   ]
  },
  {
   "cell_type": "markdown",
   "metadata": {
    "id": "ad-I66CBXaOA"
   },
   "source": [
    "## **CNN**"
   ]
  },
  {
   "cell_type": "code",
   "execution_count": 98,
   "metadata": {
    "id": "FTbxoo24XN-e"
   },
   "outputs": [],
   "source": [
    "# Define Sequential model as base \n",
    "cnn = Sequential()\n",
    "\n",
    "# Initialize Embedding layer with GLoVe embeddings\n",
    "cnn.add(Embedding(len(vocabulary) + 1, 50, weights = [word_embeddings],\n",
    "                    input_length = 50, trainable = True))\n",
    "\n",
    "# Add Convolutional block - padding = 'same' zero pads input matrix\n",
    "cnn.add(Conv1D(128, 3, activation='relu', input_shape=(50,), padding='same'))\n",
    "cnn.add(MaxPool1D(2,2))\n",
    "\n",
    "# Flatten\n",
    "cnn.add(Flatten())\n",
    "\n",
    "# Add MLP for output \n",
    "cnn.add(Dense(100, activation='relu')) # Additional hidden layer\n",
    "cnn.add(Dense(3, activation='softmax')) # Output layer"
   ]
  },
  {
   "cell_type": "code",
   "execution_count": 99,
   "metadata": {
    "colab": {
     "base_uri": "https://localhost:8080/"
    },
    "id": "uEzvGFcIa7TY",
    "outputId": "13a0f9d9-e8d1-447c-c1ea-8588aa19e884"
   },
   "outputs": [
    {
     "name": "stdout",
     "output_type": "stream",
     "text": [
      "Model: \"sequential_14\"\n",
      "_________________________________________________________________\n",
      "Layer (type)                 Output Shape              Param #   \n",
      "=================================================================\n",
      "embedding_14 (Embedding)     (None, 50, 50)            944550    \n",
      "_________________________________________________________________\n",
      "conv1d_5 (Conv1D)            (None, 50, 128)           19328     \n",
      "_________________________________________________________________\n",
      "max_pooling1d_9 (MaxPooling1 (None, 25, 128)           0         \n",
      "_________________________________________________________________\n",
      "flatten_9 (Flatten)          (None, 3200)              0         \n",
      "_________________________________________________________________\n",
      "dense_19 (Dense)             (None, 100)               320100    \n",
      "_________________________________________________________________\n",
      "dense_20 (Dense)             (None, 3)                 303       \n",
      "=================================================================\n",
      "Total params: 1,284,281\n",
      "Trainable params: 1,284,281\n",
      "Non-trainable params: 0\n",
      "_________________________________________________________________\n"
     ]
    }
   ],
   "source": [
    "# Print summary\n",
    "cnn.summary()"
   ]
  },
  {
   "cell_type": "markdown",
   "metadata": {
    "id": "YOrn3Lt9ddVm"
   },
   "source": [
    "### **LSTM 1 - Max Valued Hidden States as Context Vector**"
   ]
  },
  {
   "cell_type": "code",
   "execution_count": 48,
   "metadata": {
    "id": "HNNWKOmQvHV8"
   },
   "outputs": [],
   "source": [
    "# Define Sequential model as base \n",
    "lstm_1 = Sequential()\n",
    "\n",
    "# Initialize Embedding layer with GLoVe embeddings\n",
    "lstm_1.add(Embedding(len(vocabulary) + 1, 50, weights = [word_embeddings],\n",
    "                    input_length = 50, trainable = True))\n",
    "\n",
    "# LSTM layer with Bidirectional wrapper - return_sequences = True to output all hidden states\n",
    "lstm_1.add(Bidirectional(LSTM(64, activation='tanh', input_shape=(50,), return_sequences=True)))\n",
    "\n",
    "# Take element-wise maximum of all hidden states\n",
    "lstm_1.add(MaxPool1D())\n",
    "\n",
    "# Flatten\n",
    "lstm_1.add(Flatten())\n",
    "\n",
    "# Dense prediction layer\n",
    "lstm_1.add(Dense(3, activation='softmax'))"
   ]
  },
  {
   "cell_type": "code",
   "execution_count": 49,
   "metadata": {
    "colab": {
     "base_uri": "https://localhost:8080/"
    },
    "id": "bW2rO93qwdM8",
    "outputId": "1cfbfc39-02ab-4733-8a4c-ad2d58a27d83"
   },
   "outputs": [
    {
     "name": "stdout",
     "output_type": "stream",
     "text": [
      "Model: \"sequential_10\"\n",
      "_________________________________________________________________\n",
      "Layer (type)                 Output Shape              Param #   \n",
      "=================================================================\n",
      "embedding_10 (Embedding)     (None, 50, 50)            944550    \n",
      "_________________________________________________________________\n",
      "bidirectional_7 (Bidirection (None, 50, 128)           58880     \n",
      "_________________________________________________________________\n",
      "max_pooling1d_6 (MaxPooling1 (None, 25, 128)           0         \n",
      "_________________________________________________________________\n",
      "flatten_6 (Flatten)          (None, 3200)              0         \n",
      "_________________________________________________________________\n",
      "dense_13 (Dense)             (None, 3)                 9603      \n",
      "=================================================================\n",
      "Total params: 1,013,033\n",
      "Trainable params: 1,013,033\n",
      "Non-trainable params: 0\n",
      "_________________________________________________________________\n"
     ]
    }
   ],
   "source": [
    "# Print summary\n",
    "lstm_1.summary()"
   ]
  },
  {
   "cell_type": "markdown",
   "metadata": {
    "id": "K4JfuSecdo0D"
   },
   "source": [
    "### **LSTM 2 - Last Hidden State as Context Vector**"
   ]
  },
  {
   "cell_type": "code",
   "execution_count": 50,
   "metadata": {
    "id": "13h0n7t1doYz"
   },
   "outputs": [],
   "source": [
    "# Define Sequential model as base \n",
    "lstm_2 = Sequential()\n",
    "\n",
    "# Initialize Embedding layer with GLoVe embeddings\n",
    "lstm_2.add(Embedding(len(vocabulary) + 1, 50, weights = [word_embeddings],\n",
    "                    input_length = 50, trainable = True))\n",
    "\n",
    "# LSTM layer with Bidirectional wrapper - return_sequences = False to output only last hidden state\n",
    "lstm_2.add(Bidirectional(LSTM(64, activation='tanh', input_shape=(50,), return_sequences=False)))\n",
    "\n",
    "# Dense prediction layer\n",
    "lstm_2.add(Dense(3, activation='softmax'))"
   ]
  },
  {
   "cell_type": "code",
   "execution_count": 51,
   "metadata": {
    "colab": {
     "base_uri": "https://localhost:8080/"
    },
    "id": "rJwTrrl8b0e6",
    "outputId": "61243206-f611-459f-cd56-b4dddbb3d976"
   },
   "outputs": [
    {
     "name": "stdout",
     "output_type": "stream",
     "text": [
      "Model: \"sequential_11\"\n",
      "_________________________________________________________________\n",
      "Layer (type)                 Output Shape              Param #   \n",
      "=================================================================\n",
      "embedding_11 (Embedding)     (None, 50, 50)            944550    \n",
      "_________________________________________________________________\n",
      "bidirectional_8 (Bidirection (None, 128)               58880     \n",
      "_________________________________________________________________\n",
      "dense_14 (Dense)             (None, 3)                 387       \n",
      "=================================================================\n",
      "Total params: 1,003,817\n",
      "Trainable params: 1,003,817\n",
      "Non-trainable params: 0\n",
      "_________________________________________________________________\n"
     ]
    }
   ],
   "source": [
    "# Print summary\n",
    "lstm_2.summary()"
   ]
  },
  {
   "cell_type": "markdown",
   "metadata": {
    "id": "n8xbA3u3yMOw"
   },
   "source": [
    "# <font color='navy'>**(c) Backpropagation**"
   ]
  },
  {
   "cell_type": "code",
   "execution_count": 100,
   "metadata": {
    "id": "UhbsSJhSxE4n"
   },
   "outputs": [],
   "source": [
    "# Compile all models with Adam optimizer and 1e-3 learning rate\n",
    "cnn.compile(optimizer=Adam(lr=1e-3), loss='categorical_crossentropy', metrics=['accuracy'])\n",
    "lstm_1.compile(optimizer=Adam(lr=1e-3), loss='categorical_crossentropy', metrics=['accuracy'])\n",
    "lstm_2.compile(optimizer=Adam(lr=1e-3), loss='categorical_crossentropy', metrics=['accuracy'])"
   ]
  },
  {
   "cell_type": "code",
   "execution_count": 53,
   "metadata": {
    "colab": {
     "base_uri": "https://localhost:8080/"
    },
    "id": "mWlg2YM5y5mi",
    "outputId": "52067014-bea3-4781-b732-b92165aa8724"
   },
   "outputs": [
    {
     "name": "stdout",
     "output_type": "stream",
     "text": [
      "400/400 [==============================] - 2s 4ms/step - loss: 1.2699 - accuracy: 0.2299\n",
      "CNN Initial Loss:  1.0133424997329712\n",
      "\n",
      "400/400 [==============================] - 7s 14ms/step - loss: 1.1844 - accuracy: 0.2304\n",
      "LSTM (All Hidden Layers) Initial Loss:  0.9981018900871277\n",
      "\n",
      "400/400 [==============================] - 7s 13ms/step - loss: 1.0615 - accuracy: 0.5016\n",
      "LSTM (Last Hidden Layer) Initial Loss:  1.0109888315200806\n"
     ]
    }
   ],
   "source": [
    "# Calculate the initial training categorical cross entropy losses of the models\n",
    "print('CNN Initial Loss: ', cnn.evaluate(X_train_encoded, y_train_encoded)[0])\n",
    "print()\n",
    "\n",
    "print('LSTM (All Hidden Layers) Initial Loss: ', lstm_1.evaluate(X_train_encoded, y_train_encoded)[0])\n",
    "print()\n",
    "\n",
    "print('LSTM (Last Hidden Layer) Initial Loss: ', lstm_2.evaluate(X_train_encoded, y_train_encoded)[0])"
   ]
  },
  {
   "cell_type": "markdown",
   "metadata": {
    "id": "iwl7pm15MC05"
   },
   "source": [
    "\n",
    "# <font color='navy'>**(d) Train Models**"
   ]
  },
  {
   "cell_type": "markdown",
   "metadata": {
    "id": "EDkH4NwaNlMX"
   },
   "source": [
    "### **CNN**"
   ]
  },
  {
   "cell_type": "code",
   "execution_count": 101,
   "metadata": {
    "colab": {
     "base_uri": "https://localhost:8080/"
    },
    "id": "jckvUDuZMKg2",
    "outputId": "c8d5011d-d7b3-4aec-f9b0-0b6668be51f5"
   },
   "outputs": [
    {
     "name": "stdout",
     "output_type": "stream",
     "text": [
      "Epoch 1/5\n",
      "200/200 [==============================] - 9s 42ms/step - loss: 0.9112 - accuracy: 0.6152 - val_loss: 0.6903 - val_accuracy: 0.7627\n",
      "Epoch 2/5\n",
      "200/200 [==============================] - 8s 41ms/step - loss: 0.5077 - accuracy: 0.8006 - val_loss: 0.3100 - val_accuracy: 0.8760\n",
      "Epoch 3/5\n",
      "200/200 [==============================] - 8s 42ms/step - loss: 0.2307 - accuracy: 0.9088 - val_loss: 0.2570 - val_accuracy: 0.8929\n",
      "Epoch 4/5\n",
      "200/200 [==============================] - 8s 41ms/step - loss: 0.1264 - accuracy: 0.9556 - val_loss: 0.2099 - val_accuracy: 0.9173\n",
      "Epoch 5/5\n",
      "200/200 [==============================] - 8s 41ms/step - loss: 0.0713 - accuracy: 0.9776 - val_loss: 0.2579 - val_accuracy: 0.8992\n"
     ]
    }
   ],
   "source": [
    "# Fit model on training data for 5 epochs\n",
    "cnn_history = cnn.fit(X_train_encoded, y_train_encoded, epochs=5, batch_size=64,\n",
    "                      validation_data=(X_val_encoded, y_val_encoded))"
   ]
  },
  {
   "cell_type": "code",
   "execution_count": 102,
   "metadata": {
    "colab": {
     "base_uri": "https://localhost:8080/",
     "height": 295
    },
    "id": "YeJJ51eQfmOZ",
    "outputId": "202f4624-203f-4833-facf-845f6f407b53"
   },
   "outputs": [
    {
     "data": {
      "image/png": "[encoded data removed]",
      "text/plain": [
       "<Figure size 432x288 with 1 Axes>"
      ]
     },
     "metadata": {
      "needs_background": "light",
      "tags": []
     },
     "output_type": "display_data"
    }
   ],
   "source": [
    "# Plot training and validation loss curves \n",
    "plt.plot(cnn_history.history['loss'])\n",
    "plt.plot(cnn_history.history['val_loss'])\n",
    "plt.title('CNN Training vs. Validation Loss')\n",
    "plt.ylabel('Loss')\n",
    "plt.xlabel('Epoch')\n",
    "plt.legend(['Train', 'Validation'])\n",
    "plt.show()"
   ]
  },
  {
   "cell_type": "code",
   "execution_count": 103,
   "metadata": {
    "colab": {
     "base_uri": "https://localhost:8080/",
     "height": 295
    },
    "id": "nMTtlbkOf8pG",
    "outputId": "6e10f451-ef81-4225-ac71-9bcda16444d2"
   },
   "outputs": [
    {
     "data": {
      "image/png": "[encoded data removed]",
      "text/plain": [
       "<Figure size 432x288 with 1 Axes>"
      ]
     },
     "metadata": {
      "needs_background": "light",
      "tags": []
     },
     "output_type": "display_data"
    }
   ],
   "source": [
    "# Plot training and validation accuracy curves\n",
    "plt.plot(cnn_history.history['accuracy'])\n",
    "plt.plot(cnn_history.history['val_accuracy'])\n",
    "plt.title('CNN Training vs. Validation Accuracy')\n",
    "plt.ylabel('Accuracy')\n",
    "plt.xlabel('Epoch')\n",
    "plt.legend(['Train', 'Validation'])\n",
    "plt.show()"
   ]
  },
  {
   "cell_type": "markdown",
   "metadata": {
    "id": "iQv7kuJ8S7bY"
   },
   "source": [
    "For the CNN, I tried 32, 64, and 128 filters, as well as 10 and 100 neurons in the first MLP Dense layers. 128 filters performed significantly better than the other filter sizes, which only reached a maximum of 64% validation accuracy. In effort with unfreezing the Embedding layer parameters, the CNN was able to reach approximately 90% validation accuracy."
   ]
  },
  {
   "cell_type": "code",
   "execution_count": 104,
   "metadata": {
    "id": "kg40SusmOHIE"
   },
   "outputs": [],
   "source": [
    "# Get testing predictions\n",
    "cnn_pred = cnn.predict(X_test_encoded)\n",
    "\n",
    "# Get index of maximum probability\n",
    "cnn_pred = np.argmax(cnn_pred, axis=1)\n",
    "\n",
    "# Map back to author names\n",
    "cnn_pred = [pred_mapping[k] for k in cnn_pred]"
   ]
  },
  {
   "cell_type": "code",
   "execution_count": 105,
   "metadata": {
    "colab": {
     "base_uri": "https://localhost:8080/"
    },
    "id": "Vlfn-0QNUAEO",
    "outputId": "0ea54698-9772-4983-e02d-59cd69a3d47f"
   },
   "outputs": [
    {
     "name": "stdout",
     "output_type": "stream",
     "text": [
      "              precision    recall  f1-score   support\n",
      "\n",
      "      austen       0.98      0.91      0.95       949\n",
      " dostoyevsky       0.94      0.93      0.94       473\n",
      "       doyle       0.60      0.85      0.71       176\n",
      "\n",
      "    accuracy                           0.91      1598\n",
      "   macro avg       0.84      0.90      0.86      1598\n",
      "weighted avg       0.93      0.91      0.92      1598\n",
      "\n"
     ]
    }
   ],
   "source": [
    "# Report recall, precision, and F1 score\n",
    "print(classification_report(y_test, cnn_pred))"
   ]
  },
  {
   "cell_type": "markdown",
   "metadata": {
    "id": "9PByPluTVjdk"
   },
   "source": [
    "### **LSTM 1 - Max Valued Hidden States as Context Vector**"
   ]
  },
  {
   "cell_type": "code",
   "execution_count": 59,
   "metadata": {
    "colab": {
     "base_uri": "https://localhost:8080/"
    },
    "id": "76Ocy0pwVr-9",
    "outputId": "ed11b068-025c-4c0e-e592-65667664622a"
   },
   "outputs": [
    {
     "name": "stdout",
     "output_type": "stream",
     "text": [
      "Epoch 1/5\n",
      "200/200 [==============================] - 21s 87ms/step - loss: 0.7302 - accuracy: 0.6882 - val_loss: 0.4405 - val_accuracy: 0.8197\n",
      "Epoch 2/5\n",
      "200/200 [==============================] - 18s 88ms/step - loss: 0.3237 - accuracy: 0.8680 - val_loss: 0.3419 - val_accuracy: 0.8560\n",
      "Epoch 3/5\n",
      "200/200 [==============================] - 17s 86ms/step - loss: 0.1778 - accuracy: 0.9317 - val_loss: 0.2368 - val_accuracy: 0.9067\n",
      "Epoch 4/5\n",
      "200/200 [==============================] - 17s 88ms/step - loss: 0.0960 - accuracy: 0.9652 - val_loss: 0.3867 - val_accuracy: 0.8873\n",
      "Epoch 5/5\n",
      "200/200 [==============================] - 17s 87ms/step - loss: 0.0617 - accuracy: 0.9785 - val_loss: 0.2840 - val_accuracy: 0.9205\n"
     ]
    }
   ],
   "source": [
    "# Fit model on training data for 5 epochs\n",
    "lstm_1_history = lstm_1.fit(X_train_encoded, y_train_encoded, epochs=5, batch_size=64,\n",
    "                      validation_data=(X_val_encoded, y_val_encoded))"
   ]
  },
  {
   "cell_type": "markdown",
   "metadata": {
    "id": "cBWD2ecQbaVK"
   },
   "source": [
    "For the LSTM, I first built a baseline with a hidden state size of 32. Using this, I observed that taking the element-wise maximum (versus average) of all the states after the Bidirectional LSTM layer yielded better performance. I also observed that unfreezing the Embedding lyaer parameters led to better performance. After that, I tried increasing and decreasing the hidden state size. The baseline validation accuracy was 91% after 10 epochs. I tried sizes of 16, 32, 64, and 128. Decreasing the hidden state size to 16 reduced performance by approximately 5%, and increasing it to 64 increased the performance by 2%. Further increasing it to 128 kept the validation performance around 93% (equivalent to 64), but significantly increased computational cost. Therefore, I decided on using a hidden state size of 64."
   ]
  },
  {
   "cell_type": "code",
   "execution_count": 60,
   "metadata": {
    "colab": {
     "base_uri": "https://localhost:8080/",
     "height": 295
    },
    "id": "hqmesptbgRyw",
    "outputId": "581b7c27-6063-4e10-ad4e-b949ed5e1639"
   },
   "outputs": [
    {
     "data": {
      "image/png": "[encoded data removed]",
      "text/plain": [
       "<Figure size 432x288 with 1 Axes>"
      ]
     },
     "metadata": {
      "needs_background": "light",
      "tags": []
     },
     "output_type": "display_data"
    }
   ],
   "source": [
    "# Plot training and validation loss curves \n",
    "plt.plot(lstm_1_history.history['loss'])\n",
    "plt.plot(lstm_1_history.history['val_loss'])\n",
    "plt.title('LSTM (All Hidden States) Training vs. Validation Loss')\n",
    "plt.ylabel('Loss')\n",
    "plt.xlabel('Epoch')\n",
    "plt.legend(['Train', 'Validation'])\n",
    "plt.show()"
   ]
  },
  {
   "cell_type": "code",
   "execution_count": 61,
   "metadata": {
    "colab": {
     "base_uri": "https://localhost:8080/",
     "height": 295
    },
    "id": "RYRlPtwZgX7Z",
    "outputId": "2a76a0fb-95ed-4201-b657-43538df95984"
   },
   "outputs": [
    {
     "data": {
      "image/png": "[encoded data removed]",
      "text/plain": [
       "<Figure size 432x288 with 1 Axes>"
      ]
     },
     "metadata": {
      "needs_background": "light",
      "tags": []
     },
     "output_type": "display_data"
    }
   ],
   "source": [
    "# Plot training and validation accuracy curves \n",
    "plt.plot(lstm_1_history.history['accuracy'])\n",
    "plt.plot(lstm_1_history.history['val_accuracy'])\n",
    "plt.title('LSTM (All Hidden States) Training vs. Validation Accuracy')\n",
    "plt.ylabel('Accuracy')\n",
    "plt.xlabel('Epoch')\n",
    "plt.legend(['Train', 'Validation'])\n",
    "plt.show()"
   ]
  },
  {
   "cell_type": "code",
   "execution_count": 62,
   "metadata": {
    "id": "grEMLQtjcooX"
   },
   "outputs": [],
   "source": [
    "# Get testing predictions\n",
    "lstm_1_pred = lstm_1.predict(X_test_encoded)\n",
    "\n",
    "# Get index of maximum probability\n",
    "lstm_1_pred = np.argmax(lstm_1_pred, axis=1)\n",
    "\n",
    "# Map back to author names\n",
    "lstm_1_pred = [pred_mapping[k] for k in lstm_1_pred]"
   ]
  },
  {
   "cell_type": "code",
   "execution_count": 63,
   "metadata": {
    "colab": {
     "base_uri": "https://localhost:8080/"
    },
    "id": "Q4lOrTyBc05x",
    "outputId": "7f914e3b-9571-4bc3-a8ea-c6b23d732d03"
   },
   "outputs": [
    {
     "name": "stdout",
     "output_type": "stream",
     "text": [
      "              precision    recall  f1-score   support\n",
      "\n",
      "      austen       0.94      0.99      0.96       949\n",
      " dostoyevsky       0.98      0.88      0.93       473\n",
      "       doyle       0.78      0.77      0.77       176\n",
      "\n",
      "    accuracy                           0.93      1598\n",
      "   macro avg       0.90      0.88      0.89      1598\n",
      "weighted avg       0.93      0.93      0.93      1598\n",
      "\n"
     ]
    }
   ],
   "source": [
    "# Report recall, precision, and F1 score\n",
    "print(classification_report(y_test, lstm_1_pred))"
   ]
  },
  {
   "cell_type": "markdown",
   "metadata": {
    "id": "-eBy8iZQc9UJ"
   },
   "source": [
    "### **LSTM 2 - Last Hidden State as Context Vector**"
   ]
  },
  {
   "cell_type": "code",
   "execution_count": 64,
   "metadata": {
    "colab": {
     "base_uri": "https://localhost:8080/"
    },
    "id": "IJUMCUzXdHH_",
    "outputId": "9a01d5f9-a3c8-4896-a566-ea39df92315b"
   },
   "outputs": [
    {
     "name": "stdout",
     "output_type": "stream",
     "text": [
      "Epoch 1/5\n",
      "200/200 [==============================] - 21s 85ms/step - loss: 0.7596 - accuracy: 0.6881 - val_loss: 0.4921 - val_accuracy: 0.8128\n",
      "Epoch 2/5\n",
      "200/200 [==============================] - 17s 87ms/step - loss: 0.3689 - accuracy: 0.8568 - val_loss: 0.3607 - val_accuracy: 0.8528\n",
      "Epoch 3/5\n",
      "200/200 [==============================] - 19s 97ms/step - loss: 0.2385 - accuracy: 0.9099 - val_loss: 0.2880 - val_accuracy: 0.8779\n",
      "Epoch 4/5\n",
      "200/200 [==============================] - 18s 91ms/step - loss: 0.1551 - accuracy: 0.9449 - val_loss: 0.2612 - val_accuracy: 0.9054\n",
      "Epoch 5/5\n",
      "200/200 [==============================] - 17s 86ms/step - loss: 0.1178 - accuracy: 0.9583 - val_loss: 0.2950 - val_accuracy: 0.9111\n"
     ]
    }
   ],
   "source": [
    "# Fit model on training data for 5 epochs\n",
    "lstm_2_history = lstm_2.fit(X_train_encoded, y_train_encoded, epochs=5, batch_size=64,\n",
    "                      validation_data=(X_val_encoded, y_val_encoded))"
   ]
  },
  {
   "cell_type": "markdown",
   "metadata": {
    "id": "hGSEKVBVeT_l"
   },
   "source": [
    "For this LSTM, I followed the same tuning protocol as with the first LSTM. I observed the same optimal parameters as well - using a hidden state size of 64 and unfreezing the Embedding layers. This is expected because the last hidden state contains information about all the inputs and previous states; it is essentially a summary of the prior hidden states. The overall performance itself is similar as well, although this LSTM trained faster and has a few thousand less parameters. "
   ]
  },
  {
   "cell_type": "code",
   "execution_count": 65,
   "metadata": {
    "colab": {
     "base_uri": "https://localhost:8080/",
     "height": 295
    },
    "id": "VqVqyudEggjq",
    "outputId": "8ed4332f-18b5-4c2d-c554-63de21689a7a"
   },
   "outputs": [
    {
     "data": {
      "image/png": "[encoded data removed]",
      "text/plain": [
       "<Figure size 432x288 with 1 Axes>"
      ]
     },
     "metadata": {
      "needs_background": "light",
      "tags": []
     },
     "output_type": "display_data"
    }
   ],
   "source": [
    "# Plot training and validation loss curves \n",
    "plt.plot(lstm_2_history.history['loss'])\n",
    "plt.plot(lstm_2_history.history['val_loss'])\n",
    "plt.title('LSTM (Final Hidden State) Training vs. Validation Loss')\n",
    "plt.ylabel('Loss')\n",
    "plt.xlabel('Epoch')\n",
    "plt.legend(['Train', 'Validation'])\n",
    "plt.show()"
   ]
  },
  {
   "cell_type": "code",
   "execution_count": 66,
   "metadata": {
    "colab": {
     "base_uri": "https://localhost:8080/",
     "height": 295
    },
    "id": "Ll96WbKWglE8",
    "outputId": "08ea377b-7302-48a3-939e-3588bc3d53a2"
   },
   "outputs": [
    {
     "data": {
      "image/png": "[encoded data removed]",
      "text/plain": [
       "<Figure size 432x288 with 1 Axes>"
      ]
     },
     "metadata": {
      "needs_background": "light",
      "tags": []
     },
     "output_type": "display_data"
    }
   ],
   "source": [
    "# Plot training and validation accuracy curves \n",
    "plt.plot(lstm_2_history.history['accuracy'])\n",
    "plt.plot(lstm_2_history.history['val_accuracy'])\n",
    "plt.title('LSTM (Final Hidden State) Training vs. Validation Accuracy')\n",
    "plt.ylabel('Accuracy')\n",
    "plt.xlabel('Epoch')\n",
    "plt.legend(['Train', 'Validation'])\n",
    "plt.show()"
   ]
  },
  {
   "cell_type": "code",
   "execution_count": 67,
   "metadata": {
    "id": "WG01UJJTdPHX"
   },
   "outputs": [],
   "source": [
    "# Get testing predictions\n",
    "lstm_2_pred = lstm_2.predict(X_test_encoded)\n",
    "\n",
    "# Get index of maximum probability\n",
    "lstm_2_pred = np.argmax(lstm_2_pred, axis=1)\n",
    "\n",
    "# Map back to author names\n",
    "lstm_2_pred = [pred_mapping[k] for k in lstm_2_pred]"
   ]
  },
  {
   "cell_type": "code",
   "execution_count": 68,
   "metadata": {
    "colab": {
     "base_uri": "https://localhost:8080/"
    },
    "id": "2Pz421YLeMVq",
    "outputId": "6d8746e3-1b18-4d22-ab10-add8061ac2e8"
   },
   "outputs": [
    {
     "name": "stdout",
     "output_type": "stream",
     "text": [
      "              precision    recall  f1-score   support\n",
      "\n",
      "      austen       0.91      0.99      0.95       949\n",
      " dostoyevsky       0.94      0.93      0.93       473\n",
      "       doyle       0.91      0.48      0.63       176\n",
      "\n",
      "    accuracy                           0.92      1598\n",
      "   macro avg       0.92      0.80      0.84      1598\n",
      "weighted avg       0.92      0.92      0.91      1598\n",
      "\n"
     ]
    }
   ],
   "source": [
    "# Report recall, precision, and F1 score\n",
    "print(classification_report(y_test, lstm_2_pred))"
   ]
  },
  {
   "cell_type": "markdown",
   "metadata": {
    "id": "3kXPbx6ChbBW"
   },
   "source": [
    "\n",
    "# <font color='navy'>**(e) Compare Four Models**"
   ]
  },
  {
   "cell_type": "markdown",
   "metadata": {
    "id": "sLPwNfArjRUG"
   },
   "source": [
    "### **Creating TD-IDF Features**"
   ]
  },
  {
   "cell_type": "code",
   "execution_count": 69,
   "metadata": {
    "id": "gPneQJA4hesv"
   },
   "outputs": [],
   "source": [
    "# Define TF-IDF Vectorizer (using Count Vectorizer in backend)\n",
    "tfidf  = TfidfVectorizer()\n",
    "\n",
    "# Fit to training data\n",
    "tfidf_model = tfidf.fit(X_train)"
   ]
  },
  {
   "cell_type": "code",
   "execution_count": 70,
   "metadata": {
    "id": "caiSB5Rjjz2J"
   },
   "outputs": [],
   "source": [
    "# Transform training, validation, and testing data\n",
    "X_train_tfidf = tfidf_model.transform(X_train)\n",
    "X_test_tfidf = tfidf_model.transform(X_test)\n",
    "X_val_tfidf = tfidf_model.transform(X_val)"
   ]
  },
  {
   "cell_type": "code",
   "execution_count": 71,
   "metadata": {
    "colab": {
     "base_uri": "https://localhost:8080/"
    },
    "id": "cW-77nVT1ZpE",
    "outputId": "f111a320-a732-4202-ef9b-8c9fcddec460"
   },
   "outputs": [
    {
     "name": "stdout",
     "output_type": "stream",
     "text": [
      "(12774, 18890)\n",
      "(1598, 18890)\n",
      "(1597, 18890)\n"
     ]
    }
   ],
   "source": [
    "# Confirm shapes\n",
    "print(X_train_tfidf.shape)\n",
    "print(X_test_tfidf.shape)\n",
    "print(X_val_tfidf.shape)"
   ]
  },
  {
   "cell_type": "markdown",
   "metadata": {
    "id": "cT18Lx4gjGxo"
   },
   "source": [
    "### **Training / Testing Logistic Regression**"
   ]
  },
  {
   "cell_type": "code",
   "execution_count": 72,
   "metadata": {
    "colab": {
     "base_uri": "https://localhost:8080/"
    },
    "id": "c7WSrw4njMYs",
    "outputId": "1cdc83d8-f50e-4c54-dea1-8bc642305106"
   },
   "outputs": [
    {
     "name": "stderr",
     "output_type": "stream",
     "text": [
      "/usr/local/lib/python3.7/dist-packages/sklearn/linear_model/_logistic.py:940: ConvergenceWarning: lbfgs failed to converge (status=1):\n",
      "STOP: TOTAL NO. of ITERATIONS REACHED LIMIT.\n",
      "\n",
      "Increase the number of iterations (max_iter) or scale the data as shown in:\n",
      "    https://scikit-learn.org/stable/modules/preprocessing.html\n",
      "Please also refer to the documentation for alternative solver options:\n",
      "    https://scikit-learn.org/stable/modules/linear_model.html#logistic-regression\n",
      "  extra_warning_msg=_LOGISTIC_SOLVER_CONVERGENCE_MSG)\n"
     ]
    }
   ],
   "source": [
    "# Define Logistic Regression model, specifying to balance class weight \n",
    "# (because unbalanced datase); fit to training data\n",
    "lr = LogisticRegression(class_weight='balanced').fit(X_train_tfidf, y_train)"
   ]
  },
  {
   "cell_type": "code",
   "execution_count": 73,
   "metadata": {
    "id": "U0JPjgcIjeXv"
   },
   "outputs": [],
   "source": [
    "# Get testing predictions\n",
    "lr_pred = lr.predict(X_test_tfidf)"
   ]
  },
  {
   "cell_type": "code",
   "execution_count": 74,
   "metadata": {
    "colab": {
     "base_uri": "https://localhost:8080/"
    },
    "id": "p4nvyPBZmE53",
    "outputId": "4bdd54c4-1fc0-421e-e8f1-11fe84769031"
   },
   "outputs": [
    {
     "name": "stdout",
     "output_type": "stream",
     "text": [
      "              precision    recall  f1-score   support\n",
      "\n",
      "      austen       0.98      0.95      0.96       949\n",
      " dostoyevsky       0.94      0.94      0.94       473\n",
      "       doyle       0.76      0.88      0.82       176\n",
      "\n",
      "    accuracy                           0.94      1598\n",
      "   macro avg       0.89      0.92      0.91      1598\n",
      "weighted avg       0.94      0.94      0.94      1598\n",
      "\n"
     ]
    }
   ],
   "source": [
    "# Report recall, precision, and F1 score\n",
    "print(classification_report(y_test, lr_pred))"
   ]
  },
  {
   "cell_type": "markdown",
   "metadata": {
    "id": "2w28-J0Bmgdu"
   },
   "source": [
    "### **Training / Testing MLP**"
   ]
  },
  {
   "cell_type": "code",
   "execution_count": 75,
   "metadata": {
    "colab": {
     "base_uri": "https://localhost:8080/"
    },
    "id": "qQ9EJsMkmW8c",
    "outputId": "ead47a20-fd6c-4c26-deeb-e203fa8b56c2"
   },
   "outputs": [
    {
     "data": {
      "text/plain": [
       "MLPClassifier(activation='relu', alpha=0.0001, batch_size='auto', beta_1=0.9,\n",
       "              beta_2=0.999, early_stopping=False, epsilon=1e-08,\n",
       "              hidden_layer_sizes=(10,), learning_rate='constant',\n",
       "              learning_rate_init=0.001, max_fun=15000, max_iter=200,\n",
       "              momentum=0.9, n_iter_no_change=10, nesterovs_momentum=True,\n",
       "              power_t=0.5, random_state=None, shuffle=True, solver='adam',\n",
       "              tol=0.0001, validation_fraction=0.1, verbose=False,\n",
       "              warm_start=False)"
      ]
     },
     "execution_count": 75,
     "metadata": {
      "tags": []
     },
     "output_type": "execute_result"
    }
   ],
   "source": [
    "# Define MLP Classifier model\n",
    "mlp = MLPClassifier(hidden_layer_sizes=(10,))\n",
    "\n",
    "# Fit MLP model to training data\n",
    "mlp.fit(X_train_tfidf, y_train)"
   ]
  },
  {
   "cell_type": "markdown",
   "metadata": {
    "id": "Ea8p4tiu1u2v"
   },
   "source": [
    "The hidden layer sizes parameter was tuned here, testing the values 1, 10, 50, and 100. 10 had the best performance given time complexity."
   ]
  },
  {
   "cell_type": "code",
   "execution_count": 76,
   "metadata": {
    "id": "hOHNrPiRnK1m"
   },
   "outputs": [],
   "source": [
    "# Get testing predictions\n",
    "mlp_pred = mlp.predict(X_test_tfidf)"
   ]
  },
  {
   "cell_type": "code",
   "execution_count": 77,
   "metadata": {
    "colab": {
     "base_uri": "https://localhost:8080/"
    },
    "id": "_U2U6303oLeg",
    "outputId": "8fc46977-6e13-4fdc-ddb3-585e1aa0f683"
   },
   "outputs": [
    {
     "name": "stdout",
     "output_type": "stream",
     "text": [
      "              precision    recall  f1-score   support\n",
      "\n",
      "      austen       0.96      0.99      0.97       949\n",
      " dostoyevsky       0.97      0.95      0.96       473\n",
      "       doyle       0.88      0.83      0.86       176\n",
      "\n",
      "    accuracy                           0.96      1598\n",
      "   macro avg       0.94      0.92      0.93      1598\n",
      "weighted avg       0.96      0.96      0.96      1598\n",
      "\n"
     ]
    }
   ],
   "source": [
    "# Report recall, precision, and F1 score\n",
    "print(classification_report(y_test, mlp_pred))"
   ]
  },
  {
   "cell_type": "markdown",
   "metadata": {
    "id": "jglwYRAJoW55"
   },
   "source": [
    "### **Comparing Models**"
   ]
  },
  {
   "cell_type": "code",
   "execution_count": 106,
   "metadata": {
    "id": "13LGAGPIoOJd"
   },
   "outputs": [],
   "source": [
    "# Store data\n",
    "models = ['CNN']*9 + ['LSTM (All Hidden States)']*9 + ['LSTM (Final Hidden State)']*9 + ['Logistic Regression']*9 + ['MLP']*9\n",
    "\n",
    "classes = ['Austen', 'Dostoyevsky', 'Doyle']*5*3\n",
    "\n",
    "metrics = (['Precision']*3 + ['Recall']*3 + ['F1-Score']*3)*5\n",
    "\n",
    "# [precision, recall, f1-score]\n",
    "values = [0.98, 0.94, 0.60, 0.91, 0.93, 0.85, 0.95, 0.94, 0.71,   # CNN\n",
    "          0.94, 0.98, 0.78, 0.99, 0.88, 0.77, 0.96, 0.93, 0.77,   # LSTM 1\n",
    "          0.91, 0.94, 0.91, 0.99, 0.93, 0.48, 0.95, 0.93, 0.63,   # LSTM 2\n",
    "          0.98, 0.94, 0.76, 0.95, 0.94, 0.88, 0.96, 0.94, 0.82,   # LR\n",
    "          0.96, 0.97, 0.88, 0.99, 0.95, 0.83, 0.97, 0.96, 0.86    # MLP\n",
    "          ]"
   ]
  },
  {
   "cell_type": "code",
   "execution_count": 107,
   "metadata": {
    "id": "QAChhjiY3sly"
   },
   "outputs": [],
   "source": [
    "# Zip data into dataframe\n",
    "performance = pd.DataFrame(list(zip(models, classes, metrics, values)),\n",
    "                           columns=['Model', 'Class', 'Metric', 'Value'])"
   ]
  },
  {
   "cell_type": "code",
   "execution_count": 108,
   "metadata": {
    "colab": {
     "base_uri": "https://localhost:8080/",
     "height": 576
    },
    "id": "rX6hR0vh3u83",
    "outputId": "05cb33f5-1879-4a95-a1d8-07b346877612"
   },
   "outputs": [
    {
     "data": {
      "text/html": [
       "<div>\n",
       "<style scoped>\n",
       "    .dataframe tbody tr th:only-of-type {\n",
       "        vertical-align: middle;\n",
       "    }\n",
       "\n",
       "    .dataframe tbody tr th {\n",
       "        vertical-align: top;\n",
       "    }\n",
       "\n",
       "    .dataframe thead tr th {\n",
       "        text-align: left;\n",
       "    }\n",
       "\n",
       "    .dataframe thead tr:last-of-type th {\n",
       "        text-align: right;\n",
       "    }\n",
       "</style>\n",
       "<table border=\"1\" class=\"dataframe\">\n",
       "  <thead>\n",
       "    <tr>\n",
       "      <th></th>\n",
       "      <th></th>\n",
       "      <th colspan=\"3\" halign=\"left\">Value</th>\n",
       "    </tr>\n",
       "    <tr>\n",
       "      <th></th>\n",
       "      <th>Metric</th>\n",
       "      <th>F1-Score</th>\n",
       "      <th>Precision</th>\n",
       "      <th>Recall</th>\n",
       "    </tr>\n",
       "    <tr>\n",
       "      <th>Model</th>\n",
       "      <th>Class</th>\n",
       "      <th></th>\n",
       "      <th></th>\n",
       "      <th></th>\n",
       "    </tr>\n",
       "  </thead>\n",
       "  <tbody>\n",
       "    <tr>\n",
       "      <th rowspan=\"3\" valign=\"top\">CNN</th>\n",
       "      <th>Austen</th>\n",
       "      <td>0.95</td>\n",
       "      <td>0.98</td>\n",
       "      <td>0.91</td>\n",
       "    </tr>\n",
       "    <tr>\n",
       "      <th>Dostoyevsky</th>\n",
       "      <td>0.94</td>\n",
       "      <td>0.94</td>\n",
       "      <td>0.93</td>\n",
       "    </tr>\n",
       "    <tr>\n",
       "      <th>Doyle</th>\n",
       "      <td>0.71</td>\n",
       "      <td>0.60</td>\n",
       "      <td>0.85</td>\n",
       "    </tr>\n",
       "    <tr>\n",
       "      <th rowspan=\"3\" valign=\"top\">LSTM (All Hidden States)</th>\n",
       "      <th>Austen</th>\n",
       "      <td>0.96</td>\n",
       "      <td>0.94</td>\n",
       "      <td>0.99</td>\n",
       "    </tr>\n",
       "    <tr>\n",
       "      <th>Dostoyevsky</th>\n",
       "      <td>0.93</td>\n",
       "      <td>0.98</td>\n",
       "      <td>0.88</td>\n",
       "    </tr>\n",
       "    <tr>\n",
       "      <th>Doyle</th>\n",
       "      <td>0.77</td>\n",
       "      <td>0.78</td>\n",
       "      <td>0.77</td>\n",
       "    </tr>\n",
       "    <tr>\n",
       "      <th rowspan=\"3\" valign=\"top\">LSTM (Final Hidden State)</th>\n",
       "      <th>Austen</th>\n",
       "      <td>0.95</td>\n",
       "      <td>0.91</td>\n",
       "      <td>0.99</td>\n",
       "    </tr>\n",
       "    <tr>\n",
       "      <th>Dostoyevsky</th>\n",
       "      <td>0.93</td>\n",
       "      <td>0.94</td>\n",
       "      <td>0.93</td>\n",
       "    </tr>\n",
       "    <tr>\n",
       "      <th>Doyle</th>\n",
       "      <td>0.63</td>\n",
       "      <td>0.91</td>\n",
       "      <td>0.48</td>\n",
       "    </tr>\n",
       "    <tr>\n",
       "      <th rowspan=\"3\" valign=\"top\">Logistic Regression</th>\n",
       "      <th>Austen</th>\n",
       "      <td>0.96</td>\n",
       "      <td>0.98</td>\n",
       "      <td>0.95</td>\n",
       "    </tr>\n",
       "    <tr>\n",
       "      <th>Dostoyevsky</th>\n",
       "      <td>0.94</td>\n",
       "      <td>0.94</td>\n",
       "      <td>0.94</td>\n",
       "    </tr>\n",
       "    <tr>\n",
       "      <th>Doyle</th>\n",
       "      <td>0.82</td>\n",
       "      <td>0.76</td>\n",
       "      <td>0.88</td>\n",
       "    </tr>\n",
       "    <tr>\n",
       "      <th rowspan=\"3\" valign=\"top\">MLP</th>\n",
       "      <th>Austen</th>\n",
       "      <td>0.97</td>\n",
       "      <td>0.96</td>\n",
       "      <td>0.99</td>\n",
       "    </tr>\n",
       "    <tr>\n",
       "      <th>Dostoyevsky</th>\n",
       "      <td>0.96</td>\n",
       "      <td>0.97</td>\n",
       "      <td>0.95</td>\n",
       "    </tr>\n",
       "    <tr>\n",
       "      <th>Doyle</th>\n",
       "      <td>0.86</td>\n",
       "      <td>0.88</td>\n",
       "      <td>0.83</td>\n",
       "    </tr>\n",
       "  </tbody>\n",
       "</table>\n",
       "</div>"
      ],
      "text/plain": [
       "                                         Value                 \n",
       "Metric                                F1-Score Precision Recall\n",
       "Model                     Class                                \n",
       "CNN                       Austen          0.95      0.98   0.91\n",
       "                          Dostoyevsky     0.94      0.94   0.93\n",
       "                          Doyle           0.71      0.60   0.85\n",
       "LSTM (All Hidden States)  Austen          0.96      0.94   0.99\n",
       "                          Dostoyevsky     0.93      0.98   0.88\n",
       "                          Doyle           0.77      0.78   0.77\n",
       "LSTM (Final Hidden State) Austen          0.95      0.91   0.99\n",
       "                          Dostoyevsky     0.93      0.94   0.93\n",
       "                          Doyle           0.63      0.91   0.48\n",
       "Logistic Regression       Austen          0.96      0.98   0.95\n",
       "                          Dostoyevsky     0.94      0.94   0.94\n",
       "                          Doyle           0.82      0.76   0.88\n",
       "MLP                       Austen          0.97      0.96   0.99\n",
       "                          Dostoyevsky     0.96      0.97   0.95\n",
       "                          Doyle           0.86      0.88   0.83"
      ]
     },
     "execution_count": 108,
     "metadata": {
      "tags": []
     },
     "output_type": "execute_result"
    }
   ],
   "source": [
    "# Make Pivot Table\n",
    "pd.pivot_table(performance, index=['Model', 'Class'], columns=['Metric'])"
   ]
  }
 ],
 "metadata": {
  "colab": {
   "collapsed_sections": [],
   "name": "Document Classification - Assignment4_Aprile_Allison.ipynb",
   "provenance": []
  },
  "kernelspec": {
   "display_name": "Python 3",
   "language": "python",
   "name": "python3"
  },
  "language_info": {
   "codemirror_mode": {
    "name": "ipython",
    "version": 3
   },
   "file_extension": ".py",
   "mimetype": "text/x-python",
   "name": "python",
   "nbconvert_exporter": "python",
   "pygments_lexer": "ipython3",
   "version": "3.8.5"
  }
 },
 "nbformat": 4,
 "nbformat_minor": 1
}
